{
 "cells": [
  {
   "cell_type": "code",
   "execution_count": 1,
   "id": "76a489d3",
   "metadata": {},
   "outputs": [],
   "source": [
    "# imports\n",
    "# numpy for vectorized operations\n",
    "import numpy as np\n",
    "# pandas for dataframe manipulation of tabular data\n",
    "import pandas as pd\n",
    "# matplotlib for visualizations\n",
    "import matplotlib.pyplot as plt\n",
    "\n",
    "# train test split from sklearn\n",
    "from sklearn.model_selection import train_test_split\n",
    "# imputer from sklearn\n",
    "from sklearn.impute import SimpleImputer\n",
    "\n",
    "# filter out warnings\n",
    "import warnings\n",
    "warnings.filterwarnings('ignore')\n",
    "\n",
    "# our own acquire script:\n",
    "import acquire\n",
    "# our own prep script:\n",
    "import prepare\n",
    "\n",
    "from pydataset import data\n",
    "import os\n",
    "\n",
    "\n",
    "\n",
    "# remove limits on viewing dataframes\n",
    "#pd.set_option('display.max_columns', None)"
   ]
  },
  {
   "cell_type": "markdown",
   "id": "aac2adb0",
   "metadata": {},
   "source": [
    "### 4.) In a jupyter notebook, classification_exercises.ipynb, use a python module (pydata or seaborn datasets) containing datasets as a source from the iris data. Create a pandas dataframe, df_iris, from this data."
   ]
  },
  {
   "cell_type": "code",
   "execution_count": 2,
   "id": "ca82af56",
   "metadata": {},
   "outputs": [
    {
     "data": {
      "text/html": [
       "<div>\n",
       "<style scoped>\n",
       "    .dataframe tbody tr th:only-of-type {\n",
       "        vertical-align: middle;\n",
       "    }\n",
       "\n",
       "    .dataframe tbody tr th {\n",
       "        vertical-align: top;\n",
       "    }\n",
       "\n",
       "    .dataframe thead th {\n",
       "        text-align: right;\n",
       "    }\n",
       "</style>\n",
       "<table border=\"1\" class=\"dataframe\">\n",
       "  <thead>\n",
       "    <tr style=\"text-align: right;\">\n",
       "      <th></th>\n",
       "      <th>Sepal.Length</th>\n",
       "      <th>Sepal.Width</th>\n",
       "      <th>Petal.Length</th>\n",
       "      <th>Petal.Width</th>\n",
       "      <th>Species</th>\n",
       "    </tr>\n",
       "  </thead>\n",
       "  <tbody>\n",
       "    <tr>\n",
       "      <th>1</th>\n",
       "      <td>5.1</td>\n",
       "      <td>3.5</td>\n",
       "      <td>1.4</td>\n",
       "      <td>0.2</td>\n",
       "      <td>setosa</td>\n",
       "    </tr>\n",
       "    <tr>\n",
       "      <th>2</th>\n",
       "      <td>4.9</td>\n",
       "      <td>3.0</td>\n",
       "      <td>1.4</td>\n",
       "      <td>0.2</td>\n",
       "      <td>setosa</td>\n",
       "    </tr>\n",
       "    <tr>\n",
       "      <th>3</th>\n",
       "      <td>4.7</td>\n",
       "      <td>3.2</td>\n",
       "      <td>1.3</td>\n",
       "      <td>0.2</td>\n",
       "      <td>setosa</td>\n",
       "    </tr>\n",
       "    <tr>\n",
       "      <th>4</th>\n",
       "      <td>4.6</td>\n",
       "      <td>3.1</td>\n",
       "      <td>1.5</td>\n",
       "      <td>0.2</td>\n",
       "      <td>setosa</td>\n",
       "    </tr>\n",
       "    <tr>\n",
       "      <th>5</th>\n",
       "      <td>5.0</td>\n",
       "      <td>3.6</td>\n",
       "      <td>1.4</td>\n",
       "      <td>0.2</td>\n",
       "      <td>setosa</td>\n",
       "    </tr>\n",
       "  </tbody>\n",
       "</table>\n",
       "</div>"
      ],
      "text/plain": [
       "   Sepal.Length  Sepal.Width  Petal.Length  Petal.Width Species\n",
       "1           5.1          3.5           1.4          0.2  setosa\n",
       "2           4.9          3.0           1.4          0.2  setosa\n",
       "3           4.7          3.2           1.3          0.2  setosa\n",
       "4           4.6          3.1           1.5          0.2  setosa\n",
       "5           5.0          3.6           1.4          0.2  setosa"
      ]
     },
     "execution_count": 2,
     "metadata": {},
     "output_type": "execute_result"
    }
   ],
   "source": [
    "df_iris = data('iris')\n",
    "df = df_iris\n",
    "df.head()"
   ]
  },
  {
   "cell_type": "code",
   "execution_count": 3,
   "id": "d3f114ce",
   "metadata": {},
   "outputs": [
    {
     "name": "stdout",
     "output_type": "stream",
     "text": [
      "   Sepal.Length  Sepal.Width  Petal.Length  Petal.Width Species\n",
      "1           5.1          3.5           1.4          0.2  setosa\n",
      "2           4.9          3.0           1.4          0.2  setosa\n",
      "3           4.7          3.2           1.3          0.2  setosa\n"
     ]
    }
   ],
   "source": [
    "# Print first 3 rows of Iris dataset\n",
    "\n",
    "print(df.head(3))"
   ]
  },
  {
   "cell_type": "code",
   "execution_count": 4,
   "id": "d727e9d0",
   "metadata": {},
   "outputs": [
    {
     "name": "stdout",
     "output_type": "stream",
     "text": [
      "150\n"
     ]
    }
   ],
   "source": [
    "#Print out how many rows are in df_iris\n",
    "\n",
    "print(len(df.index))"
   ]
  },
  {
   "cell_type": "code",
   "execution_count": 5,
   "id": "1a6fb2c5",
   "metadata": {},
   "outputs": [
    {
     "name": "stdout",
     "output_type": "stream",
     "text": [
      "Index(['Sepal.Length', 'Sepal.Width', 'Petal.Length', 'Petal.Width',\n",
      "       'Species'],\n",
      "      dtype='object')\n"
     ]
    }
   ],
   "source": [
    "#Print the column names \n",
    "\n",
    "print(df.columns)"
   ]
  },
  {
   "cell_type": "code",
   "execution_count": 6,
   "id": "b6a3e5e6",
   "metadata": {},
   "outputs": [
    {
     "name": "stdout",
     "output_type": "stream",
     "text": [
      "Sepal.Length    float64\n",
      "Sepal.Width     float64\n",
      "Petal.Length    float64\n",
      "Petal.Width     float64\n",
      "Species          object\n",
      "dtype: object\n"
     ]
    }
   ],
   "source": [
    "#Print columns wih 'object' dtype\n",
    "\n",
    "types= df.dtypes\n",
    "print(types)"
   ]
  },
  {
   "cell_type": "code",
   "execution_count": 7,
   "id": "761d2b8c",
   "metadata": {},
   "outputs": [
    {
     "name": "stdout",
     "output_type": "stream",
     "text": [
      "       Sepal.Length  Sepal.Width  Petal.Length  Petal.Width\n",
      "count    150.000000   150.000000    150.000000   150.000000\n",
      "mean       5.843333     3.057333      3.758000     1.199333\n",
      "std        0.828066     0.435866      1.765298     0.762238\n",
      "min        4.300000     2.000000      1.000000     0.100000\n",
      "25%        5.100000     2.800000      1.600000     0.300000\n",
      "50%        5.800000     3.000000      4.350000     1.300000\n",
      "75%        6.400000     3.300000      5.100000     1.800000\n",
      "max        7.900000     4.400000      6.900000     2.500000\n"
     ]
    }
   ],
   "source": [
    "print(df.describe())"
   ]
  },
  {
   "cell_type": "markdown",
   "id": "ac7fcf08",
   "metadata": {},
   "source": [
    "### 5.) Read the Table1_CustDetails table from your spreadsheet exercises google sheet into a dataframe named df_google_sheets. Make sure that the spreadsheet is publicly visible under your sharing settings."
   ]
  },
  {
   "cell_type": "code",
   "execution_count": 8,
   "id": "2c18e3d6",
   "metadata": {},
   "outputs": [
    {
     "data": {
      "text/html": [
       "<div>\n",
       "<style scoped>\n",
       "    .dataframe tbody tr th:only-of-type {\n",
       "        vertical-align: middle;\n",
       "    }\n",
       "\n",
       "    .dataframe tbody tr th {\n",
       "        vertical-align: top;\n",
       "    }\n",
       "\n",
       "    .dataframe thead th {\n",
       "        text-align: right;\n",
       "    }\n",
       "</style>\n",
       "<table border=\"1\" class=\"dataframe\">\n",
       "  <thead>\n",
       "    <tr style=\"text-align: right;\">\n",
       "      <th></th>\n",
       "      <th>customer_id</th>\n",
       "      <th>gender</th>\n",
       "      <th>is_senior_citizen</th>\n",
       "      <th>partner</th>\n",
       "      <th>dependents</th>\n",
       "      <th>phone_service</th>\n",
       "      <th>phone_service_name</th>\n",
       "      <th>internet_service</th>\n",
       "      <th>internet_service_name</th>\n",
       "      <th>contract_type</th>\n",
       "      <th>...</th>\n",
       "      <th>tenure</th>\n",
       "      <th>churn</th>\n",
       "      <th>is_female</th>\n",
       "      <th>has_churned</th>\n",
       "      <th>has_phone</th>\n",
       "      <th>has_internet</th>\n",
       "      <th>has_phone_and_internet</th>\n",
       "      <th>partner_dependents</th>\n",
       "      <th>type_of_service(s)</th>\n",
       "      <th>Tenure Group</th>\n",
       "    </tr>\n",
       "  </thead>\n",
       "  <tbody>\n",
       "    <tr>\n",
       "      <th>0</th>\n",
       "      <td>0002-ORFBO</td>\n",
       "      <td>Female</td>\n",
       "      <td>0</td>\n",
       "      <td>Yes</td>\n",
       "      <td>Yes</td>\n",
       "      <td>1</td>\n",
       "      <td>One Line</td>\n",
       "      <td>1</td>\n",
       "      <td>DSL</td>\n",
       "      <td>1</td>\n",
       "      <td>...</td>\n",
       "      <td>9.04</td>\n",
       "      <td>No</td>\n",
       "      <td>True</td>\n",
       "      <td>False</td>\n",
       "      <td>True</td>\n",
       "      <td>True</td>\n",
       "      <td>True</td>\n",
       "      <td>3</td>\n",
       "      <td>Phone and Internet</td>\n",
       "      <td>Silver(Less Than 5 Years)</td>\n",
       "    </tr>\n",
       "    <tr>\n",
       "      <th>1</th>\n",
       "      <td>0003-MKNFE</td>\n",
       "      <td>Male</td>\n",
       "      <td>0</td>\n",
       "      <td>No</td>\n",
       "      <td>No</td>\n",
       "      <td>2</td>\n",
       "      <td>Two or More Lines</td>\n",
       "      <td>1</td>\n",
       "      <td>DSL</td>\n",
       "      <td>0</td>\n",
       "      <td>...</td>\n",
       "      <td>9.06</td>\n",
       "      <td>No</td>\n",
       "      <td>False</td>\n",
       "      <td>False</td>\n",
       "      <td>True</td>\n",
       "      <td>True</td>\n",
       "      <td>True</td>\n",
       "      <td>0</td>\n",
       "      <td>Phone and Internet</td>\n",
       "      <td>Silver(Less Than 5 Years)</td>\n",
       "    </tr>\n",
       "    <tr>\n",
       "      <th>2</th>\n",
       "      <td>0004-TLHLJ</td>\n",
       "      <td>Male</td>\n",
       "      <td>0</td>\n",
       "      <td>No</td>\n",
       "      <td>No</td>\n",
       "      <td>1</td>\n",
       "      <td>One Line</td>\n",
       "      <td>2</td>\n",
       "      <td>Fiber Optic</td>\n",
       "      <td>0</td>\n",
       "      <td>...</td>\n",
       "      <td>3.80</td>\n",
       "      <td>Yes</td>\n",
       "      <td>False</td>\n",
       "      <td>True</td>\n",
       "      <td>True</td>\n",
       "      <td>True</td>\n",
       "      <td>True</td>\n",
       "      <td>0</td>\n",
       "      <td>Phone and Internet</td>\n",
       "      <td>Silver(Less Than 5 Years)</td>\n",
       "    </tr>\n",
       "  </tbody>\n",
       "</table>\n",
       "<p>3 rows × 24 columns</p>\n",
       "</div>"
      ],
      "text/plain": [
       "  customer_id  gender  is_senior_citizen partner dependents  phone_service  \\\n",
       "0  0002-ORFBO  Female                  0     Yes        Yes              1   \n",
       "1  0003-MKNFE    Male                  0      No         No              2   \n",
       "2  0004-TLHLJ    Male                  0      No         No              1   \n",
       "\n",
       "  phone_service_name  internet_service internet_service_name  contract_type  \\\n",
       "0           One Line                 1                   DSL              1   \n",
       "1  Two or More Lines                 1                   DSL              0   \n",
       "2           One Line                 2           Fiber Optic              0   \n",
       "\n",
       "   ... tenure churn  is_female  has_churned  has_phone has_internet  \\\n",
       "0  ...   9.04    No       True        False       True         True   \n",
       "1  ...   9.06    No      False        False       True         True   \n",
       "2  ...   3.80   Yes      False         True       True         True   \n",
       "\n",
       "   has_phone_and_internet  partner_dependents  type_of_service(s)  \\\n",
       "0                    True                   3  Phone and Internet   \n",
       "1                    True                   0  Phone and Internet   \n",
       "2                    True                   0  Phone and Internet   \n",
       "\n",
       "                Tenure Group  \n",
       "0  Silver(Less Than 5 Years)  \n",
       "1  Silver(Less Than 5 Years)  \n",
       "2  Silver(Less Than 5 Years)  \n",
       "\n",
       "[3 rows x 24 columns]"
      ]
     },
     "execution_count": 8,
     "metadata": {},
     "output_type": "execute_result"
    }
   ],
   "source": [
    "# obtain the actual url from the browser, not the \"share\" url\n",
    "url = 'https://docs.google.com/spreadsheets/d/1Wh7k-uhu5J00l1ZowjS_jQ4N94VYTw7w00F5pb0V0mk/edit#gid=239704151'\n",
    "\n",
    "# replace /edit with /export?format=csv\n",
    "sheet = 'https://docs.google.com/spreadsheets/d/1Wh7k-uhu5J00l1ZowjS_jQ4N94VYTw7w00F5pb0V0mk/export?format=csv#gid=239704151'\n",
    "\n",
    "df_googlesheet = pd.read_csv(sheet)\n",
    "df_googlesheet.head(3)"
   ]
  },
  {
   "cell_type": "code",
   "execution_count": 9,
   "id": "49f97c56",
   "metadata": {},
   "outputs": [
    {
     "name": "stdout",
     "output_type": "stream",
     "text": [
      "   customer_id  gender  is_senior_citizen partner dependents  phone_service  \\\n",
      "0   0002-ORFBO  Female                  0     Yes        Yes              1   \n",
      "1   0003-MKNFE    Male                  0      No         No              2   \n",
      "2   0004-TLHLJ    Male                  0      No         No              1   \n",
      "3   0011-IGKFF    Male                  1     Yes         No              1   \n",
      "4   0013-EXCHZ  Female                  1     Yes         No              1   \n",
      "5   0013-MHZWF  Female                  0      No        Yes              1   \n",
      "6   0013-SMEOE  Female                  1     Yes         No              1   \n",
      "7   0014-BMAQU    Male                  0     Yes         No              2   \n",
      "8   0015-UOCOJ  Female                  1      No         No              1   \n",
      "9   0016-QLJIS  Female                  0     Yes        Yes              2   \n",
      "10  0017-DINOC    Male                  0      No         No              0   \n",
      "11  0017-IUDMW  Female                  0     Yes        Yes              2   \n",
      "12  0018-NYROU  Female                  0     Yes         No              1   \n",
      "13  0019-EFAEP  Female                  0      No         No              2   \n",
      "14  0019-GFNTW  Female                  0      No         No              0   \n",
      "15  0020-INWCK  Female                  0     Yes        Yes              2   \n",
      "16  0020-JDNXP  Female                  0     Yes        Yes              0   \n",
      "17  0021-IKXGC  Female                  1      No         No              2   \n",
      "18  0022-TCJCI    Male                  1      No         No              1   \n",
      "19  0023-HGHWL    Male                  1      No         No              0   \n",
      "20  0023-UYUPN  Female                  1     Yes         No              2   \n",
      "21  0023-XUOPT  Female                  0     Yes         No              2   \n",
      "22  0027-KWYKW  Female                  0     Yes        Yes              2   \n",
      "23  0030-FNXPP  Female                  0      No         No              1   \n",
      "24  0031-PVLZI  Female                  0     Yes        Yes              1   \n",
      "25  0032-PGELS  Female                  0     Yes        Yes              0   \n",
      "26  0036-IHMOT  Female                  0     Yes        Yes              1   \n",
      "27  0040-HALCW    Male                  0     Yes        Yes              1   \n",
      "28  0042-JVWOJ    Male                  0      No         No              1   \n",
      "29  0042-RLHYP  Female                  0     Yes        Yes              1   \n",
      "30  0048-LUMLS    Male                  0     Yes        Yes              1   \n",
      "31  0048-PIHNL  Female                  0     Yes         No              1   \n",
      "32  0052-DCKON    Male                  0     Yes         No              2   \n",
      "33  0052-YNYOT  Female                  0      No         No              1   \n",
      "34  0056-EPFBG    Male                  0     Yes        Yes              0   \n",
      "35  0057-QBUQH  Female                  0      No        Yes              2   \n",
      "36  0058-EVZWM  Female                  0     Yes         No              2   \n",
      "37  0060-FUALY  Female                  0     Yes         No              2   \n",
      "38  0064-SUDOG  Female                  0     Yes        Yes              1   \n",
      "39  0064-YIJGF    Male                  0     Yes        Yes              2   \n",
      "40  0067-DKWBL    Male                  1      No         No              1   \n",
      "41  0068-FIGTF  Female                  0      No         No              1   \n",
      "42  0071-NDAFP    Male                  0     Yes        Yes              2   \n",
      "43  0074-HDKDG    Male                  0     Yes        Yes              1   \n",
      "44  0076-LVEPS    Male                  0      No        Yes              0   \n",
      "45  0078-XZMHT    Male                  0     Yes         No              2   \n",
      "46  0080-EMYVY  Female                  0      No         No              1   \n",
      "47  0080-OROZO  Female                  0      No         No              1   \n",
      "48  0082-LDZUE    Male                  0      No         No              1   \n",
      "49  0082-OQIQY    Male                  0      No         No              1   \n",
      "50  0083-PIVIK    Male                  0      No         No              2   \n",
      "51  0089-IIQKO  Female                  0     Yes        Yes              2   \n",
      "52  0093-EXYQL  Female                  1      No         No              1   \n",
      "53  0093-XWZFY    Male                  0      No         No              2   \n",
      "54  0094-OIFMO  Female                  1      No         No              1   \n",
      "55  0096-BXERS  Female                  0     Yes         No              2   \n",
      "56  0096-FCPUF    Male                  0      No         No              2   \n",
      "57  0098-BOWSO    Male                  0      No         No              1   \n",
      "58  0100-DUVFC    Male                  1     Yes         No              2   \n",
      "59  0103-CSITQ  Female                  0     Yes         No              2   \n",
      "60  0104-PPXDV    Male                  0     Yes         No              1   \n",
      "61  0106-GHRQR    Male                  0      No         No              2   \n",
      "62  0106-UGRDO  Female                  0     Yes         No              2   \n",
      "63  0107-WESLM    Male                  0      No         No              1   \n",
      "64  0107-YHINA    Male                  0      No        Yes              2   \n",
      "65  0111-KLBQG    Male                  1     Yes        Yes              1   \n",
      "66  0112-QAWRZ    Male                  0     Yes        Yes              2   \n",
      "67  0112-QWPNC    Male                  0     Yes         No              2   \n",
      "68  0114-IGABW  Female                  0     Yes         No              0   \n",
      "69  0114-PEGZZ  Female                  0      No         No              2   \n",
      "70  0114-RSRRW  Female                  0     Yes         No              1   \n",
      "71  0115-TFERT    Male                  0     Yes         No              2   \n",
      "72  0117-LFRMW    Male                  0     Yes        Yes              0   \n",
      "73  0118-JPNOY  Female                  1      No         No              1   \n",
      "74  0121-SNYRK    Male                  0      No         No              0   \n",
      "75  0122-OAHPZ  Female                  0      No         No              2   \n",
      "76  0123-CRBRT  Female                  0     Yes        Yes              2   \n",
      "77  0125-LZQXK    Male                  0      No         No              1   \n",
      "78  0128-MKWSG  Female                  0      No        Yes              0   \n",
      "79  0129-KPTWJ    Male                  0     Yes         No              1   \n",
      "80  0129-QMPDR    Male                  0     Yes        Yes              1   \n",
      "81  0130-SXOUN    Male                  0      No         No              2   \n",
      "82  0133-BMFZO  Female                  0      No         No              1   \n",
      "83  0134-XWXCE  Female                  1      No         No              1   \n",
      "84  0135-NMXAP  Female                  0      No         No              2   \n",
      "85  0136-IFMYD    Male                  1     Yes         No              2   \n",
      "86  0137-OCGAB  Female                  0      No         No              2   \n",
      "87  0137-UDEUO  Female                  0      No         No              1   \n",
      "88  0139-IVFJG  Female                  0     Yes         No              1   \n",
      "89  0141-YEAYS  Female                  1      No         No              2   \n",
      "90  0142-GVYSN    Male                  0      No         No              1   \n",
      "91  0147-ESWWR  Female                  1     Yes         No              2   \n",
      "92  0148-DCDOS    Male                  0      No         No              2   \n",
      "93  0151-ONTOV  Female                  0      No         No              1   \n",
      "94  0156-FVPTA    Male                  0     Yes         No              1   \n",
      "95  0164-APGRB  Female                  0      No         No              2   \n",
      "96  0164-XAIRP  Female                  0      No         No              1   \n",
      "97  0168-XZKBB  Female                  0     Yes         No              2   \n",
      "98  0174-QRVVY    Male                  0     Yes        Yes              2   \n",
      "99  0177-PXBAT    Male                  1     Yes         No              2   \n",
      "\n",
      "   phone_service_name  internet_service internet_service_name  contract_type  \\\n",
      "0            One Line                 1                   DSL              1   \n",
      "1   Two or More Lines                 1                   DSL              0   \n",
      "2            One Line                 2           Fiber Optic              0   \n",
      "3            One Line                 2           Fiber Optic              0   \n",
      "4            One Line                 2           Fiber Optic              0   \n",
      "5            One Line                 1                   DSL              0   \n",
      "6            One Line                 2           Fiber Optic              2   \n",
      "7   Two or More Lines                 2           Fiber Optic              2   \n",
      "8            One Line                 1                   DSL              0   \n",
      "9   Two or More Lines                 1                   DSL              2   \n",
      "10   No Phone Service                 1                   DSL              2   \n",
      "11  Two or More Lines                 2           Fiber Optic              2   \n",
      "12           One Line                 2           Fiber Optic              0   \n",
      "13  Two or More Lines                 2           Fiber Optic              2   \n",
      "14   No Phone Service                 1                   DSL              2   \n",
      "15  Two or More Lines                 2           Fiber Optic              2   \n",
      "16   No Phone Service                 1                   DSL              1   \n",
      "17  Two or More Lines                 2           Fiber Optic              0   \n",
      "18           One Line                 1                   DSL              1   \n",
      "19   No Phone Service                 1                   DSL              0   \n",
      "20  Two or More Lines                 0   No Internet Service              1   \n",
      "21  Two or More Lines                 2           Fiber Optic              0   \n",
      "22  Two or More Lines                 2           Fiber Optic              0   \n",
      "23           One Line                 0   No Internet Service              0   \n",
      "24           One Line                 0   No Internet Service              0   \n",
      "25   No Phone Service                 1                   DSL              0   \n",
      "26           One Line                 2           Fiber Optic              1   \n",
      "27           One Line                 0   No Internet Service              2   \n",
      "28           One Line                 0   No Internet Service              1   \n",
      "29           One Line                 0   No Internet Service              2   \n",
      "30           One Line                 2           Fiber Optic              1   \n",
      "31           One Line                 0   No Internet Service              1   \n",
      "32  Two or More Lines                 2           Fiber Optic              1   \n",
      "33           One Line                 0   No Internet Service              1   \n",
      "34   No Phone Service                 1                   DSL              2   \n",
      "35  Two or More Lines                 0   No Internet Service              2   \n",
      "36  Two or More Lines                 2           Fiber Optic              0   \n",
      "37  Two or More Lines                 2           Fiber Optic              0   \n",
      "38           One Line                 0   No Internet Service              2   \n",
      "39  Two or More Lines                 2           Fiber Optic              0   \n",
      "40           One Line                 1                   DSL              0   \n",
      "41           One Line                 1                   DSL              1   \n",
      "42  Two or More Lines                 0   No Internet Service              2   \n",
      "43           One Line                 1                   DSL              1   \n",
      "44   No Phone Service                 1                   DSL              0   \n",
      "45  Two or More Lines                 1                   DSL              2   \n",
      "46           One Line                 1                   DSL              1   \n",
      "47           One Line                 2           Fiber Optic              1   \n",
      "48           One Line                 1                   DSL              0   \n",
      "49           One Line                 2           Fiber Optic              0   \n",
      "50  Two or More Lines                 1                   DSL              1   \n",
      "51  Two or More Lines                 2           Fiber Optic              0   \n",
      "52           One Line                 2           Fiber Optic              0   \n",
      "53  Two or More Lines                 2           Fiber Optic              0   \n",
      "54           One Line                 2           Fiber Optic              0   \n",
      "55  Two or More Lines                 1                   DSL              0   \n",
      "56  Two or More Lines                 1                   DSL              0   \n",
      "57           One Line                 0   No Internet Service              0   \n",
      "58  Two or More Lines                 2           Fiber Optic              1   \n",
      "59  Two or More Lines                 2           Fiber Optic              1   \n",
      "60           One Line                 1                   DSL              1   \n",
      "61  Two or More Lines                 1                   DSL              0   \n",
      "62  Two or More Lines                 2           Fiber Optic              2   \n",
      "63           One Line                 0   No Internet Service              0   \n",
      "64  Two or More Lines                 2           Fiber Optic              0   \n",
      "65           One Line                 2           Fiber Optic              0   \n",
      "66  Two or More Lines                 2           Fiber Optic              0   \n",
      "67  Two or More Lines                 1                   DSL              1   \n",
      "68   No Phone Service                 1                   DSL              2   \n",
      "69  Two or More Lines                 2           Fiber Optic              0   \n",
      "70           One Line                 0   No Internet Service              0   \n",
      "71  Two or More Lines                 2           Fiber Optic              0   \n",
      "72   No Phone Service                 1                   DSL              0   \n",
      "73           One Line                 2           Fiber Optic              0   \n",
      "74   No Phone Service                 1                   DSL              1   \n",
      "75  Two or More Lines                 2           Fiber Optic              0   \n",
      "76  Two or More Lines                 1                   DSL              2   \n",
      "77           One Line                 2           Fiber Optic              0   \n",
      "78   No Phone Service                 1                   DSL              0   \n",
      "79           One Line                 2           Fiber Optic              0   \n",
      "80           One Line                 0   No Internet Service              1   \n",
      "81  Two or More Lines                 2           Fiber Optic              0   \n",
      "82           One Line                 2           Fiber Optic              0   \n",
      "83           One Line                 1                   DSL              1   \n",
      "84  Two or More Lines                 2           Fiber Optic              0   \n",
      "85  Two or More Lines                 2           Fiber Optic              2   \n",
      "86  Two or More Lines                 2           Fiber Optic              0   \n",
      "87           One Line                 0   No Internet Service              0   \n",
      "88           One Line                 2           Fiber Optic              0   \n",
      "89  Two or More Lines                 2           Fiber Optic              0   \n",
      "90           One Line                 0   No Internet Service              0   \n",
      "91  Two or More Lines                 2           Fiber Optic              0   \n",
      "92  Two or More Lines                 2           Fiber Optic              0   \n",
      "93           One Line                 2           Fiber Optic              0   \n",
      "94           One Line                 1                   DSL              0   \n",
      "95  Two or More Lines                 2           Fiber Optic              2   \n",
      "96           One Line                 0   No Internet Service              2   \n",
      "97  Two or More Lines                 2           Fiber Optic              0   \n",
      "98  Two or More Lines                 0   No Internet Service              2   \n",
      "99  Two or More Lines                 2           Fiber Optic              0   \n",
      "\n",
      "    ... tenure churn  is_female  has_churned  has_phone has_internet  \\\n",
      "0   ...   9.04    No       True        False       True         True   \n",
      "1   ...   9.06    No      False        False       True         True   \n",
      "2   ...   3.80   Yes      False         True       True         True   \n",
      "3   ...  12.63   Yes      False         True       True         True   \n",
      "4   ...   3.19   Yes       True         True       True         True   \n",
      "5   ...   8.23    No       True        False       True         True   \n",
      "6   ...  72.05    No       True        False       True         True   \n",
      "7   ...  63.53    No      False        False       True         True   \n",
      "8   ...   7.06    No       True        False       True         True   \n",
      "9   ...  65.87    No       True        False       True         True   \n",
      "10  ...  54.44    No      False        False      False         True   \n",
      "11  ...  72.40    No       True        False       True         True   \n",
      "12  ...   5.10    No       True        False       True         True   \n",
      "13  ...  71.68    No       True        False       True         True   \n",
      "14  ...  56.83    No       True        False      False         True   \n",
      "15  ...  71.53    No       True        False       True         True   \n",
      "16  ...  32.54    No       True        False      False         True   \n",
      "17  ...   1.00    No       True        False       True         True   \n",
      "18  ...  44.52   Yes      False         True       True         True   \n",
      "19  ...   1.00   Yes      False         True      False         True   \n",
      "20  ...  51.84    No       True        False       True        False   \n",
      "21  ...  12.92   Yes       True         True       True         True   \n",
      "22  ...  22.09    No       True        False       True         True   \n",
      "23  ...   2.88    No       True        False       True        False   \n",
      "24  ...   3.75   Yes       True         True       True        False   \n",
      "25  ...   1.00   Yes       True         True      False         True   \n",
      "26  ...  54.55    No       True        False       True         True   \n",
      "27  ...  53.46    No      False        False       True        False   \n",
      "28  ...  24.07    No      False        False       True        False   \n",
      "29  ...  70.91    No       True        False       True        False   \n",
      "30  ...  35.61    No      False        False       True         True   \n",
      "31  ...  44.05    No       True        False       True        False   \n",
      "32  ...  68.59    No      False        False       True         True   \n",
      "33  ...  65.37    No       True        False       True        False   \n",
      "34  ...  20.95    No      False        False      False         True   \n",
      "35  ...  42.64    No       True        False       True        False   \n",
      "36  ...  55.23    No       True        False       True         True   \n",
      "37  ...  59.08    No       True        False       True         True   \n",
      "38  ...  11.06    No       True        False       True        False   \n",
      "39  ...  25.47    No      False        False       True         True   \n",
      "40  ...   1.85   Yes      False         True       True         True   \n",
      "41  ...  26.59    No       True        False       True         True   \n",
      "42  ...  24.73    No      False        False       True        False   \n",
      "43  ...  26.15    No      False        False       True         True   \n",
      "44  ...  27.61    No      False        False      False         True   \n",
      "45  ...  74.18    No      False        False       True         True   \n",
      "46  ...  14.15    No       True        False       True         True   \n",
      "47  ...  35.59    No       True        False       True         True   \n",
      "48  ...   1.00    No      False        False       True         True   \n",
      "49  ...  27.68    No      False        False       True         True   \n",
      "50  ...  68.52    No      False        False       True         True   \n",
      "51  ...  37.69    No       True        False       True         True   \n",
      "52  ...  40.13    No       True        False       True         True   \n",
      "53  ...  38.63   Yes      False         True       True         True   \n",
      "54  ...  11.79   Yes       True         True       True         True   \n",
      "55  ...   6.25    No       True        False       True         True   \n",
      "56  ...  29.28    No      False        False       True         True   \n",
      "57  ...  27.31    No      False        False       True        False   \n",
      "58  ...  69.74    No      False        False       True         True   \n",
      "59  ...  57.15    No       True        False       True         True   \n",
      "60  ...  57.23    No      False        False       True         True   \n",
      "61  ...  16.98    No      False        False       True         True   \n",
      "62  ...  70.54    No       True        False       True         True   \n",
      "63  ...   1.00   Yes      False         True       True        False   \n",
      "64  ...   1.00   Yes      False         True       True         True   \n",
      "65  ...  30.46    No      False        False       True         True   \n",
      "66  ...  15.88    No      False        False       True         True   \n",
      "67  ...  48.13   Yes      False         True       True         True   \n",
      "68  ...  71.17    No       True        False      False         True   \n",
      "69  ...  33.90    No       True        False       True         True   \n",
      "70  ...   9.41    No       True        False       True        False   \n",
      "71  ...  20.84   Yes      False         True       True         True   \n",
      "72  ...  36.04   Yes      False         True      False         True   \n",
      "73  ...  25.57    No       True        False       True         True   \n",
      "74  ...  49.40    No      False        False      False         True   \n",
      "75  ...   6.92   Yes       True         True       True         True   \n",
      "76  ...  62.73    No       True        False       True         True   \n",
      "77  ...  15.33   Yes      False         True       True         True   \n",
      "78  ...  25.04    No       True        False      False         True   \n",
      "79  ...  71.29    No      False        False       True         True   \n",
      "80  ...  42.20    No      False        False       True        False   \n",
      "81  ...  66.86    No      False        False       True         True   \n",
      "82  ...   2.11   Yes       True         True       True         True   \n",
      "83  ...  43.66    No       True        False       True         True   \n",
      "84  ...  11.73   Yes       True         True       True         True   \n",
      "85  ...  69.43    No      False        False       True         True   \n",
      "86  ...   1.00   Yes       True         True       True         True   \n",
      "87  ...   3.21   Yes       True         True       True        False   \n",
      "88  ...   2.11    No       True        False       True         True   \n",
      "89  ...  27.77    No       True        False       True         True   \n",
      "90  ...  25.18    No      False        False       True        False   \n",
      "91  ...  39.00    No       True        False       True         True   \n",
      "92  ...  24.94   Yes      False         True       True         True   \n",
      "93  ...   1.00   Yes       True         True       True         True   \n",
      "94  ...  21.27   Yes      False         True       True         True   \n",
      "95  ...  73.95    No       True        False       True         True   \n",
      "96  ...  24.05    No       True        False       True        False   \n",
      "97  ...  18.01    No       True        False       True         True   \n",
      "98  ...  72.88    No      False        False       True        False   \n",
      "99  ...  33.62    No      False        False       True         True   \n",
      "\n",
      "    has_phone_and_internet  partner_dependents  type_of_service(s)  \\\n",
      "0                     True                   3  Phone and Internet   \n",
      "1                     True                   0  Phone and Internet   \n",
      "2                     True                   0  Phone and Internet   \n",
      "3                     True                   1  Phone and Internet   \n",
      "4                     True                   1  Phone and Internet   \n",
      "5                     True                   2  Phone and Internet   \n",
      "6                     True                   1  Phone and Internet   \n",
      "7                     True                   1  Phone and Internet   \n",
      "8                     True                   0  Phone and Internet   \n",
      "9                     True                   3  Phone and Internet   \n",
      "10                   False                   0   Has Internet Only   \n",
      "11                    True                   3  Phone and Internet   \n",
      "12                    True                   1  Phone and Internet   \n",
      "13                    True                   0  Phone and Internet   \n",
      "14                   False                   0   Has Internet Only   \n",
      "15                    True                   3  Phone and Internet   \n",
      "16                   False                   3   Has Internet Only   \n",
      "17                    True                   0  Phone and Internet   \n",
      "18                    True                   0  Phone and Internet   \n",
      "19                   False                   0   Has Internet Only   \n",
      "20                   False                   1      Has Phone Only   \n",
      "21                    True                   1  Phone and Internet   \n",
      "22                    True                   3  Phone and Internet   \n",
      "23                   False                   0      Has Phone Only   \n",
      "24                   False                   3      Has Phone Only   \n",
      "25                   False                   3   Has Internet Only   \n",
      "26                    True                   3  Phone and Internet   \n",
      "27                   False                   3      Has Phone Only   \n",
      "28                   False                   0      Has Phone Only   \n",
      "29                   False                   3      Has Phone Only   \n",
      "30                    True                   3  Phone and Internet   \n",
      "31                   False                   1      Has Phone Only   \n",
      "32                    True                   1  Phone and Internet   \n",
      "33                   False                   0      Has Phone Only   \n",
      "34                   False                   3   Has Internet Only   \n",
      "35                   False                   2      Has Phone Only   \n",
      "36                    True                   1  Phone and Internet   \n",
      "37                    True                   1  Phone and Internet   \n",
      "38                   False                   3      Has Phone Only   \n",
      "39                    True                   3  Phone and Internet   \n",
      "40                    True                   0  Phone and Internet   \n",
      "41                    True                   0  Phone and Internet   \n",
      "42                   False                   3      Has Phone Only   \n",
      "43                    True                   3  Phone and Internet   \n",
      "44                   False                   2   Has Internet Only   \n",
      "45                    True                   1  Phone and Internet   \n",
      "46                    True                   0  Phone and Internet   \n",
      "47                    True                   0  Phone and Internet   \n",
      "48                    True                   0  Phone and Internet   \n",
      "49                    True                   0  Phone and Internet   \n",
      "50                    True                   0  Phone and Internet   \n",
      "51                    True                   3  Phone and Internet   \n",
      "52                    True                   0  Phone and Internet   \n",
      "53                    True                   0  Phone and Internet   \n",
      "54                    True                   0  Phone and Internet   \n",
      "55                    True                   1  Phone and Internet   \n",
      "56                    True                   0  Phone and Internet   \n",
      "57                   False                   0      Has Phone Only   \n",
      "58                    True                   1  Phone and Internet   \n",
      "59                    True                   1  Phone and Internet   \n",
      "60                    True                   1  Phone and Internet   \n",
      "61                    True                   0  Phone and Internet   \n",
      "62                    True                   1  Phone and Internet   \n",
      "63                   False                   0      Has Phone Only   \n",
      "64                    True                   2  Phone and Internet   \n",
      "65                    True                   3  Phone and Internet   \n",
      "66                    True                   3  Phone and Internet   \n",
      "67                    True                   1  Phone and Internet   \n",
      "68                   False                   1   Has Internet Only   \n",
      "69                    True                   0  Phone and Internet   \n",
      "70                   False                   1      Has Phone Only   \n",
      "71                    True                   1  Phone and Internet   \n",
      "72                   False                   3   Has Internet Only   \n",
      "73                    True                   0  Phone and Internet   \n",
      "74                   False                   0   Has Internet Only   \n",
      "75                    True                   0  Phone and Internet   \n",
      "76                    True                   3  Phone and Internet   \n",
      "77                    True                   0  Phone and Internet   \n",
      "78                   False                   2   Has Internet Only   \n",
      "79                    True                   1  Phone and Internet   \n",
      "80                   False                   3      Has Phone Only   \n",
      "81                    True                   0  Phone and Internet   \n",
      "82                    True                   0  Phone and Internet   \n",
      "83                    True                   0  Phone and Internet   \n",
      "84                    True                   0  Phone and Internet   \n",
      "85                    True                   1  Phone and Internet   \n",
      "86                    True                   0  Phone and Internet   \n",
      "87                   False                   0      Has Phone Only   \n",
      "88                    True                   1  Phone and Internet   \n",
      "89                    True                   0  Phone and Internet   \n",
      "90                   False                   0      Has Phone Only   \n",
      "91                    True                   1  Phone and Internet   \n",
      "92                    True                   0  Phone and Internet   \n",
      "93                    True                   0  Phone and Internet   \n",
      "94                    True                   1  Phone and Internet   \n",
      "95                    True                   0  Phone and Internet   \n",
      "96                   False                   0      Has Phone Only   \n",
      "97                    True                   1  Phone and Internet   \n",
      "98                   False                   3      Has Phone Only   \n",
      "99                    True                   1  Phone and Internet   \n",
      "\n",
      "                 Tenure Group  \n",
      "0   Silver(Less Than 5 Years)  \n",
      "1   Silver(Less Than 5 Years)  \n",
      "2   Silver(Less Than 5 Years)  \n",
      "3   Silver(Less Than 5 Years)  \n",
      "4   Silver(Less Than 5 Years)  \n",
      "5   Silver(Less Than 5 Years)  \n",
      "6            Gold(5-10 Years)  \n",
      "7            Gold(5-10 Years)  \n",
      "8   Silver(Less Than 5 Years)  \n",
      "9            Gold(5-10 Years)  \n",
      "10  Silver(Less Than 5 Years)  \n",
      "11           Gold(5-10 Years)  \n",
      "12  Silver(Less Than 5 Years)  \n",
      "13           Gold(5-10 Years)  \n",
      "14  Silver(Less Than 5 Years)  \n",
      "15           Gold(5-10 Years)  \n",
      "16  Silver(Less Than 5 Years)  \n",
      "17  Silver(Less Than 5 Years)  \n",
      "18  Silver(Less Than 5 Years)  \n",
      "19  Silver(Less Than 5 Years)  \n",
      "20  Silver(Less Than 5 Years)  \n",
      "21  Silver(Less Than 5 Years)  \n",
      "22  Silver(Less Than 5 Years)  \n",
      "23  Silver(Less Than 5 Years)  \n",
      "24  Silver(Less Than 5 Years)  \n",
      "25  Silver(Less Than 5 Years)  \n",
      "26  Silver(Less Than 5 Years)  \n",
      "27  Silver(Less Than 5 Years)  \n",
      "28  Silver(Less Than 5 Years)  \n",
      "29           Gold(5-10 Years)  \n",
      "30  Silver(Less Than 5 Years)  \n",
      "31  Silver(Less Than 5 Years)  \n",
      "32           Gold(5-10 Years)  \n",
      "33           Gold(5-10 Years)  \n",
      "34  Silver(Less Than 5 Years)  \n",
      "35  Silver(Less Than 5 Years)  \n",
      "36  Silver(Less Than 5 Years)  \n",
      "37  Silver(Less Than 5 Years)  \n",
      "38  Silver(Less Than 5 Years)  \n",
      "39  Silver(Less Than 5 Years)  \n",
      "40  Silver(Less Than 5 Years)  \n",
      "41  Silver(Less Than 5 Years)  \n",
      "42  Silver(Less Than 5 Years)  \n",
      "43  Silver(Less Than 5 Years)  \n",
      "44  Silver(Less Than 5 Years)  \n",
      "45           Gold(5-10 Years)  \n",
      "46  Silver(Less Than 5 Years)  \n",
      "47  Silver(Less Than 5 Years)  \n",
      "48  Silver(Less Than 5 Years)  \n",
      "49  Silver(Less Than 5 Years)  \n",
      "50           Gold(5-10 Years)  \n",
      "51  Silver(Less Than 5 Years)  \n",
      "52  Silver(Less Than 5 Years)  \n",
      "53  Silver(Less Than 5 Years)  \n",
      "54  Silver(Less Than 5 Years)  \n",
      "55  Silver(Less Than 5 Years)  \n",
      "56  Silver(Less Than 5 Years)  \n",
      "57  Silver(Less Than 5 Years)  \n",
      "58           Gold(5-10 Years)  \n",
      "59  Silver(Less Than 5 Years)  \n",
      "60  Silver(Less Than 5 Years)  \n",
      "61  Silver(Less Than 5 Years)  \n",
      "62           Gold(5-10 Years)  \n",
      "63  Silver(Less Than 5 Years)  \n",
      "64  Silver(Less Than 5 Years)  \n",
      "65  Silver(Less Than 5 Years)  \n",
      "66  Silver(Less Than 5 Years)  \n",
      "67  Silver(Less Than 5 Years)  \n",
      "68           Gold(5-10 Years)  \n",
      "69  Silver(Less Than 5 Years)  \n",
      "70  Silver(Less Than 5 Years)  \n",
      "71  Silver(Less Than 5 Years)  \n",
      "72  Silver(Less Than 5 Years)  \n",
      "73  Silver(Less Than 5 Years)  \n",
      "74  Silver(Less Than 5 Years)  \n",
      "75  Silver(Less Than 5 Years)  \n",
      "76           Gold(5-10 Years)  \n",
      "77  Silver(Less Than 5 Years)  \n",
      "78  Silver(Less Than 5 Years)  \n",
      "79           Gold(5-10 Years)  \n",
      "80  Silver(Less Than 5 Years)  \n",
      "81           Gold(5-10 Years)  \n",
      "82  Silver(Less Than 5 Years)  \n",
      "83  Silver(Less Than 5 Years)  \n",
      "84  Silver(Less Than 5 Years)  \n",
      "85           Gold(5-10 Years)  \n",
      "86  Silver(Less Than 5 Years)  \n",
      "87  Silver(Less Than 5 Years)  \n",
      "88  Silver(Less Than 5 Years)  \n",
      "89  Silver(Less Than 5 Years)  \n",
      "90  Silver(Less Than 5 Years)  \n",
      "91  Silver(Less Than 5 Years)  \n",
      "92  Silver(Less Than 5 Years)  \n",
      "93  Silver(Less Than 5 Years)  \n",
      "94  Silver(Less Than 5 Years)  \n",
      "95           Gold(5-10 Years)  \n",
      "96  Silver(Less Than 5 Years)  \n",
      "97  Silver(Less Than 5 Years)  \n",
      "98           Gold(5-10 Years)  \n",
      "99  Silver(Less Than 5 Years)  \n",
      "\n",
      "[100 rows x 24 columns]\n"
     ]
    }
   ],
   "source": [
    "df_google_sheets_sample = df_googlesheet.head(100)\n",
    "print(df_google_sheets_sample)"
   ]
  },
  {
   "cell_type": "code",
   "execution_count": 10,
   "id": "4eee98e2",
   "metadata": {},
   "outputs": [
    {
     "name": "stdout",
     "output_type": "stream",
     "text": [
      "7049\n"
     ]
    }
   ],
   "source": [
    "# Print the number of rows of your original dataframe\n",
    "\n",
    "print(len(df_googlesheet.index))"
   ]
  },
  {
   "cell_type": "code",
   "execution_count": 11,
   "id": "ada94309",
   "metadata": {},
   "outputs": [
    {
     "name": "stdout",
     "output_type": "stream",
     "text": [
      "Empty DataFrame\n",
      "Columns: [customer_id, gender, is_senior_citizen, partner, dependents]\n",
      "Index: []\n"
     ]
    }
   ],
   "source": [
    "# Print the first 5 column names\n",
    "\n",
    "print(df_googlesheet.iloc[:0, :5])"
   ]
  },
  {
   "cell_type": "code",
   "execution_count": 12,
   "id": "7cf4714b",
   "metadata": {},
   "outputs": [
    {
     "data": {
      "text/plain": [
       "Index(['customer_id', 'gender', 'partner', 'dependents', 'phone_service_name',\n",
       "       'internet_service_name', 'contract_type_name', 'payment_type', 'churn',\n",
       "       'type_of_service(s)', 'Tenure Group'],\n",
       "      dtype='object')"
      ]
     },
     "execution_count": 12,
     "metadata": {},
     "output_type": "execute_result"
    }
   ],
   "source": [
    "# Print the column names that have a data type of object\n",
    "\n",
    "df_gs = df_googlesheet\n",
    "\n",
    "df_gs.select_dtypes(include=['object']).columns"
   ]
  },
  {
   "cell_type": "code",
   "execution_count": 13,
   "id": "9675d5a1",
   "metadata": {},
   "outputs": [
    {
     "data": {
      "text/plain": [
       "is_senior_citizen        1.00\n",
       "phone_service            2.00\n",
       "internet_service         2.00\n",
       "contract_type            2.00\n",
       "monthly_charges        100.50\n",
       "total_charges         8666.00\n",
       "tenure                  79.34\n",
       "partner_dependents       3.00\n",
       "dtype: float64"
      ]
     },
     "execution_count": 13,
     "metadata": {},
     "output_type": "execute_result"
    }
   ],
   "source": [
    "# Compute the range for each of the numeric variables\n",
    "\n",
    "df_range = df_gs.select_dtypes(include=['int64', 'float64']).apply(lambda col: col.max()- col.min())\n",
    "# df_range = df_numbers.max() - df_numbers.min()\n",
    "df_range"
   ]
  },
  {
   "cell_type": "markdown",
   "id": "f9c05996",
   "metadata": {},
   "source": [
    "### 6.) Download your spreadsheet exercises google sheet as an excel file (File → Download → Microsoft Excel). Read the Table1_CustDetails worksheet into a dataframe named df_excel."
   ]
  },
  {
   "cell_type": "code",
   "execution_count": 14,
   "id": "8ef0427c",
   "metadata": {},
   "outputs": [],
   "source": [
    "# df_excel = pd.read_excel('TelcoCo_CustDetails.xlsx')\n",
    "# df_excel.head(3)"
   ]
  },
  {
   "cell_type": "code",
   "execution_count": 15,
   "id": "eea765be",
   "metadata": {},
   "outputs": [
    {
     "ename": "NameError",
     "evalue": "name 'df_excel' is not defined",
     "output_type": "error",
     "traceback": [
      "\u001b[0;31m---------------------------------------------------------------------------\u001b[0m",
      "\u001b[0;31mNameError\u001b[0m                                 Traceback (most recent call last)",
      "\u001b[0;32m/var/folders/x6/9q2vjsz90nx_0lgx5gr8g33w0000gn/T/ipykernel_20279/825761681.py\u001b[0m in \u001b[0;36m<module>\u001b[0;34m\u001b[0m\n\u001b[1;32m      1\u001b[0m \u001b[0;31m# Assign the first 100 rows to a new dataframe, df_excel_sample\u001b[0m\u001b[0;34m\u001b[0m\u001b[0;34m\u001b[0m\u001b[0m\n\u001b[1;32m      2\u001b[0m \u001b[0;34m\u001b[0m\u001b[0m\n\u001b[0;32m----> 3\u001b[0;31m \u001b[0mdf_excel_sample\u001b[0m \u001b[0;34m=\u001b[0m \u001b[0mdf_excel\u001b[0m\u001b[0;34m.\u001b[0m\u001b[0mhead\u001b[0m\u001b[0;34m(\u001b[0m\u001b[0;36m100\u001b[0m\u001b[0;34m)\u001b[0m\u001b[0;34m\u001b[0m\u001b[0;34m\u001b[0m\u001b[0m\n\u001b[0m\u001b[1;32m      4\u001b[0m \u001b[0mdf_excel_sample\u001b[0m\u001b[0;34m.\u001b[0m\u001b[0mhead\u001b[0m\u001b[0;34m(\u001b[0m\u001b[0;36m3\u001b[0m\u001b[0;34m)\u001b[0m\u001b[0;34m\u001b[0m\u001b[0;34m\u001b[0m\u001b[0m\n",
      "\u001b[0;31mNameError\u001b[0m: name 'df_excel' is not defined"
     ]
    }
   ],
   "source": [
    "# Assign the first 100 rows to a new dataframe, df_excel_sample\n",
    "\n",
    "df_excel_sample = df_excel.head(100)\n",
    "df_excel_sample.head(3)"
   ]
  },
  {
   "cell_type": "code",
   "execution_count": null,
   "id": "6fb80aeb",
   "metadata": {},
   "outputs": [],
   "source": [
    "# Print the number of rows of your original dataframe\n",
    "\n",
    "print(len(df_excel))"
   ]
  },
  {
   "cell_type": "code",
   "execution_count": null,
   "id": "b53967b0",
   "metadata": {
    "scrolled": true
   },
   "outputs": [],
   "source": [
    "# Print the first 5 column names\n",
    "\n",
    "print(df_excel.iloc[:0, :5])"
   ]
  },
  {
   "cell_type": "code",
   "execution_count": null,
   "id": "6077c35f",
   "metadata": {},
   "outputs": [],
   "source": [
    "# Print the column names that have a data type of object\n",
    "\n",
    "print(df_excel.select_dtypes(include=['object']).columns)"
   ]
  },
  {
   "cell_type": "code",
   "execution_count": null,
   "id": "38a14a88",
   "metadata": {},
   "outputs": [],
   "source": [
    "# Compute the range for each of the numeric variables\n",
    "\n",
    "df_range = df_excel.select_dtypes(include=['number']).apply(lambda col: col.max() - col.min())\n",
    "# df_range = df_numbers.max() - df_numbers.min()\n",
    "df_range"
   ]
  },
  {
   "cell_type": "markdown",
   "id": "dec8ac5e",
   "metadata": {},
   "source": [
    "### Read the data from this google sheet into a dataframe, df_google."
   ]
  },
  {
   "cell_type": "code",
   "execution_count": null,
   "id": "01201c88",
   "metadata": {},
   "outputs": [],
   "source": [
    "df_google = pd.read_excel('train.xlsx')\n",
    "df_google.head(3)"
   ]
  },
  {
   "cell_type": "code",
   "execution_count": null,
   "id": "5cf1fac4",
   "metadata": {},
   "outputs": [],
   "source": [
    "# Print the column names\n",
    "\n",
    "print(df_google.columns)"
   ]
  },
  {
   "cell_type": "code",
   "execution_count": null,
   "id": "0dd2036e",
   "metadata": {
    "scrolled": true
   },
   "outputs": [],
   "source": [
    "# Print the data type of each column\n",
    "df_google.dtypes"
   ]
  },
  {
   "cell_type": "code",
   "execution_count": null,
   "id": "f4c46944",
   "metadata": {},
   "outputs": [],
   "source": [
    "# Print the summary statistics for each of the numeric variables\n",
    "\n",
    "df_google.describe()"
   ]
  },
  {
   "cell_type": "code",
   "execution_count": null,
   "id": "d2aac151",
   "metadata": {
    "scrolled": true
   },
   "outputs": [],
   "source": [
    "# Print the unique values for each of your categorical variables\n",
    "\n",
    "# df_google.nunique()\n",
    "df_google.select_dtypes('object').apply(lambda col: col.unique(). tolist())\n"
   ]
  },
  {
   "cell_type": "code",
   "execution_count": null,
   "id": "1bbf50a4",
   "metadata": {},
   "outputs": [],
   "source": []
  },
  {
   "cell_type": "markdown",
   "id": "92883b46",
   "metadata": {},
   "source": [
    "## Data Prep Exercises"
   ]
  },
  {
   "cell_type": "markdown",
   "id": "d8f5a75f",
   "metadata": {},
   "source": [
    "#### Using the Iris Data: "
   ]
  },
  {
   "cell_type": "code",
   "execution_count": null,
   "id": "030a6df1",
   "metadata": {},
   "outputs": [],
   "source": [
    "df = acquire.get_iris_data()"
   ]
  },
  {
   "cell_type": "code",
   "execution_count": null,
   "id": "22469ab9",
   "metadata": {},
   "outputs": [],
   "source": [
    "df.head()"
   ]
  },
  {
   "cell_type": "code",
   "execution_count": null,
   "id": "3fd766ec",
   "metadata": {},
   "outputs": [],
   "source": [
    "df.info()"
   ]
  },
  {
   "cell_type": "code",
   "execution_count": null,
   "id": "f9bb3949",
   "metadata": {},
   "outputs": [],
   "source": [
    "type(df)"
   ]
  },
  {
   "cell_type": "code",
   "execution_count": null,
   "id": "5b87db12",
   "metadata": {},
   "outputs": [],
   "source": [
    "df.describe()"
   ]
  },
  {
   "cell_type": "code",
   "execution_count": null,
   "id": "fee5e147",
   "metadata": {},
   "outputs": [],
   "source": [
    "df.species_name.value_counts()"
   ]
  },
  {
   "cell_type": "markdown",
   "id": "ba183584",
   "metadata": {},
   "source": [
    "#### 2.) Drop the species_id and measurement_id columns."
   ]
  },
  {
   "cell_type": "code",
   "execution_count": null,
   "id": "ba43bb4b",
   "metadata": {},
   "outputs": [],
   "source": [
    "# df = df.drop(['species_id', 'measurement_id'],axis=1)"
   ]
  },
  {
   "cell_type": "markdown",
   "id": "16514508",
   "metadata": {},
   "source": [
    "#### 3.) Rename the species_name column to just species."
   ]
  },
  {
   "cell_type": "code",
   "execution_count": null,
   "id": "d718317e",
   "metadata": {},
   "outputs": [],
   "source": [
    "# df = df.rename(columns={'species_name': 'species'})"
   ]
  },
  {
   "cell_type": "code",
   "execution_count": null,
   "id": "6148a81c",
   "metadata": {},
   "outputs": [],
   "source": [
    "# At the same time\n",
    "\n",
    "# Drop species_id and measurement_id then rename species_name to species\n",
    "columns_to_drop = ['species_id', 'measurement_id']\n",
    "\n",
    "df.drop(columns_to_drop, inplace=True).rename(columns={'species_name': 'species'})\n",
    "df.head()"
   ]
  },
  {
   "cell_type": "markdown",
   "id": "3f4b32ea",
   "metadata": {},
   "source": [
    "#### 4.) Create dummy variables of the species name and concatenate onto the iris dataframe. (This is for practice, we don't always have to encode the target, but if we used species as a feature, we would need to encode it)."
   ]
  },
  {
   "cell_type": "code",
   "execution_count": null,
   "id": "1765a073",
   "metadata": {},
   "outputs": [],
   "source": [
    "dummy_df = pd.get_dummies(df[['species']],\n",
    "                         dummy_na = False,\n",
    "                         drop_first = [True])\n",
    "dummy_df.head()"
   ]
  },
  {
   "cell_type": "code",
   "execution_count": null,
   "id": "db469bad",
   "metadata": {},
   "outputs": [],
   "source": [
    "# Concat\n",
    "df = pd.concat([df, dummy_df], axis = 1)\n",
    "df"
   ]
  },
  {
   "cell_type": "markdown",
   "id": "8620b5f8",
   "metadata": {},
   "source": [
    "#### 5.) Create a function named prep_iris that accepts the untransformed iris data, and returns the data with the transformations above applied."
   ]
  },
  {
   "cell_type": "code",
   "execution_count": null,
   "id": "c2c6cc47",
   "metadata": {},
   "outputs": [],
   "source": [
    "def prep_iris(df):\n",
    "        ''' \n",
    "        This function cleans the iris_db by dropping unneeded\n",
    "        columns and renaming columns to be more helpful. Also, \n",
    "        made dummy variables in order to better define findings.\n",
    "        '''\n",
    "        # Acquire\n",
    "        df = acquire.get_iris_data()\n",
    "        \n",
    "        # Drop species_id and measurement_id   \n",
    "        df = df.drop(['species_id', 'measurement_id'],inplace=True)\n",
    "        \n",
    "        # Rename species_name to species              \n",
    "        df = df.rename(columns={'species_name': 'species'})\n",
    "                    \n",
    "        # Create dummies\n",
    "        dummy_df = pd.get_dummies(df[['species']],\n",
    "                                dummy_na = False,\n",
    "                                drop_first = [True])\n",
    "                    \n",
    "        # Concat with dummies\n",
    "        df = pd.concat([df, dummy_df], axis = 1)\n",
    "        \n",
    "        return df             "
   ]
  },
  {
   "cell_type": "code",
   "execution_count": null,
   "id": "10b02913",
   "metadata": {},
   "outputs": [],
   "source": [
    "prep_data(df).head()"
   ]
  },
  {
   "cell_type": "markdown",
   "id": "b28c443b",
   "metadata": {},
   "source": [
    "### Use the function defined in acquire.py to load the Titanic data."
   ]
  },
  {
   "cell_type": "code",
   "execution_count": null,
   "id": "c4523293",
   "metadata": {},
   "outputs": [],
   "source": [
    "df = acquire.get_titanic_data()"
   ]
  },
  {
   "cell_type": "code",
   "execution_count": null,
   "id": "db686457",
   "metadata": {},
   "outputs": [],
   "source": [
    "df.shape"
   ]
  },
  {
   "cell_type": "code",
   "execution_count": null,
   "id": "f3289b24",
   "metadata": {},
   "outputs": [],
   "source": [
    "df.columns"
   ]
  },
  {
   "cell_type": "markdown",
   "id": "0ef89a41",
   "metadata": {},
   "source": [
    "#### 2.) Drop any unnecessary, unhelpful, or duplicated columns."
   ]
  },
  {
   "cell_type": "code",
   "execution_count": null,
   "id": "8f4eb467",
   "metadata": {},
   "outputs": [],
   "source": [
    "df.drop_duplicates(inplace=True)"
   ]
  },
  {
   "cell_type": "code",
   "execution_count": null,
   "id": "8779d69c",
   "metadata": {},
   "outputs": [],
   "source": [
    "columns_to_drop = ['deck', 'age', 'embarked', 'class', 'passenger_id']\n",
    "df = df.drop(columns= columns_to_drop)"
   ]
  },
  {
   "cell_type": "code",
   "execution_count": null,
   "id": "14ae9b4d",
   "metadata": {},
   "outputs": [],
   "source": [
    "df['embark_town'] = df.embark_town.fillna(value='Southampton')"
   ]
  },
  {
   "cell_type": "code",
   "execution_count": null,
   "id": "b60c2c15",
   "metadata": {},
   "outputs": [],
   "source": [
    "df.head()"
   ]
  },
  {
   "cell_type": "markdown",
   "id": "f6634cd3",
   "metadata": {},
   "source": [
    "#### 3.) Encode the categorical columns. Create dummy variables of the categorical columns and concatenate them onto the dataframe."
   ]
  },
  {
   "cell_type": "code",
   "execution_count": null,
   "id": "bd0831cf",
   "metadata": {},
   "outputs": [],
   "source": [
    "# Find categorical columns\n",
    "numcols = [col for col in df.columns if df[col].dtype != 'O']\n",
    "\n",
    "catcols = [col for col in df.columns if df[col].dtype == 'O']\n",
    "\n",
    "# df[numcols].info()\n",
    "df[catcols].info()"
   ]
  },
  {
   "cell_type": "code",
   "execution_count": null,
   "id": "ce6cdc04",
   "metadata": {},
   "outputs": [],
   "source": [
    "# Describe the 'object' columns\n",
    "for col in catcols:\n",
    "    print(f'Column: {col}')\n",
    "    print(df[col].value_counts())\n",
    "    print('--------------------')\n",
    "    print(df[col].value_counts(normalize=True, dropna=False))\n",
    "    print('====================')"
   ]
  },
  {
   "cell_type": "code",
   "execution_count": null,
   "id": "582379ff",
   "metadata": {
    "scrolled": true
   },
   "outputs": [],
   "source": [
    "dummy_df = pd.get_dummies(df[['sex', 'embark_town']],\n",
    "                         dummy_na = False,\n",
    "                         drop_first = [True, True])\n",
    "dummy_df"
   ]
  },
  {
   "cell_type": "code",
   "execution_count": null,
   "id": "45231d12",
   "metadata": {},
   "outputs": [],
   "source": [
    "df = pd.concat([df, dummy_df], axis = 1)"
   ]
  },
  {
   "cell_type": "code",
   "execution_count": null,
   "id": "c72a1b9f",
   "metadata": {},
   "outputs": [],
   "source": [
    "df"
   ]
  },
  {
   "cell_type": "code",
   "execution_count": null,
   "id": "cd3c7631",
   "metadata": {},
   "outputs": [],
   "source": [
    "def prep_titanic(df):\n",
    "    '''Cleans up unnecessary columns and uses straight-forward\n",
    "    column names.\n",
    "    '''\n",
    "    # Acquire data\n",
    "    df = acquire.get_titanic_data()\n",
    "    \n",
    "    # Drop dups\n",
    "    df.drop_duplicates(inplace=True)\n",
    "    \n",
    "    # Remove unneeded columns\n",
    "    df = df.drop(columns= ['deck', 'age', 'embarked', 'class', 'passenger_id'])\n",
    "    \n",
    "    #Fill in missing values where needed\n",
    "    df['embark_town'] = df.embark_town.fillna(value='Southampton')\n",
    "    \n",
    "    # Encode categorical variables\n",
    "    dummy_df = pd.get_dummies(df[['sex', 'embark_town']],\n",
    "                         dummy_na = False,\n",
    "                         drop_first = [True, True])\n",
    "    df = pd.concat([df, dummy_df], axis = 1)\n",
    "    \n",
    "    # Drop unneeded columns without numeric data\n",
    "    return df.drop(columns =['sex', 'embark_town'])"
   ]
  },
  {
   "cell_type": "code",
   "execution_count": null,
   "id": "c274c842",
   "metadata": {},
   "outputs": [],
   "source": [
    "prep_titanic(df)"
   ]
  },
  {
   "cell_type": "markdown",
   "id": "9e746215",
   "metadata": {},
   "source": [
    "#### Acquire Telco Data"
   ]
  },
  {
   "cell_type": "code",
   "execution_count": null,
   "id": "0aa5da9f",
   "metadata": {},
   "outputs": [],
   "source": [
    "df = acquire.get_telco_data()\n",
    "df.head()"
   ]
  },
  {
   "cell_type": "code",
   "execution_count": null,
   "id": "d85b3989",
   "metadata": {},
   "outputs": [],
   "source": [
    "df.head()"
   ]
  },
  {
   "cell_type": "markdown",
   "id": "f83b8c40",
   "metadata": {},
   "source": [
    "#### Drop any unnecessary, unhelpful, or duplicated columns. This could mean dropping foreign key columns but keeping the corresponding string values, for example."
   ]
  },
  {
   "cell_type": "code",
   "execution_count": null,
   "id": "81029520",
   "metadata": {},
   "outputs": [],
   "source": [
    "df.describe()"
   ]
  },
  {
   "cell_type": "code",
   "execution_count": null,
   "id": "aebc46d9",
   "metadata": {},
   "outputs": [],
   "source": [
    "# df.info"
   ]
  },
  {
   "cell_type": "markdown",
   "id": "ef64830c",
   "metadata": {},
   "source": [
    "#### Encode the categorical columns. Create dummy variables of the categorical columns and concatenate them onto the dataframe.\n"
   ]
  },
  {
   "cell_type": "code",
   "execution_count": null,
   "id": "dc64762c",
   "metadata": {},
   "outputs": [],
   "source": [
    "list(df.columns)"
   ]
  },
  {
   "cell_type": "code",
   "execution_count": null,
   "id": "06c4de04",
   "metadata": {},
   "outputs": [],
   "source": [
    "numcols = [col for col in df if df[col].dtype != 'O']"
   ]
  },
  {
   "cell_type": "code",
   "execution_count": null,
   "id": "4a180e55",
   "metadata": {},
   "outputs": [],
   "source": [
    "catcols = [col for col in df if df[col].dtype == 'O']"
   ]
  },
  {
   "cell_type": "code",
   "execution_count": null,
   "id": "b153e8cb",
   "metadata": {},
   "outputs": [],
   "source": [
    "df[numcols].info()"
   ]
  },
  {
   "cell_type": "code",
   "execution_count": null,
   "id": "c215b67a",
   "metadata": {},
   "outputs": [],
   "source": [
    "df[catcols].info()"
   ]
  },
  {
   "cell_type": "code",
   "execution_count": null,
   "id": "4fad17ff",
   "metadata": {},
   "outputs": [],
   "source": [
    "# Whitespace in total_charges\n",
    "df['total_charges'] = df['total_charges'].str.strip()"
   ]
  },
  {
   "cell_type": "code",
   "execution_count": null,
   "id": "53c498e9",
   "metadata": {},
   "outputs": [],
   "source": [
    "df = df[df.total_charges != '']"
   ]
  },
  {
   "cell_type": "code",
   "execution_count": null,
   "id": "02fb85a1",
   "metadata": {},
   "outputs": [],
   "source": [
    "df['total_charges'] = df.total_charges.astype(float)"
   ]
  },
  {
   "cell_type": "code",
   "execution_count": null,
   "id": "e466d565",
   "metadata": {},
   "outputs": [],
   "source": [
    "df.describe()"
   ]
  },
  {
   "cell_type": "code",
   "execution_count": null,
   "id": "c1b51ed7",
   "metadata": {},
   "outputs": [],
   "source": [
    "#Simple encoding binary category variables into numerics\n",
    "\n",
    "\n",
    "\n"
   ]
  },
  {
   "cell_type": "code",
   "execution_count": null,
   "id": "4bf92f51",
   "metadata": {},
   "outputs": [],
   "source": [
    "# Describe our object columns:\n",
    "for col in catcols:\n",
    "    print(f'Column: {col}')\n",
    "    print(df[col].value_counts())\n",
    "    print('--------------------')\n",
    "    print(df[col].value_counts(normalize=True, dropna=False))\n",
    "    print('====================')"
   ]
  },
  {
   "cell_type": "code",
   "execution_count": null,
   "id": "c37ce5db",
   "metadata": {},
   "outputs": [],
   "source": [
    "columns_to_drop = ['payment_type_id', 'internet_service_type_id', 'contract_type_id', 'customer_id']"
   ]
  },
  {
   "cell_type": "code",
   "execution_count": null,
   "id": "afa954bd",
   "metadata": {},
   "outputs": [],
   "source": [
    "df = df.drop(columns = columns_to_drop)\n",
    "df.head()"
   ]
  },
  {
   "cell_type": "code",
   "execution_count": null,
   "id": "efb5736e",
   "metadata": {},
   "outputs": [],
   "source": [
    "dummy_df = pd.get_dummies(df[['payment_type', \n",
    "                                    'internet_service_type', \n",
    "                                    'contract_type']],\n",
    "                                     dummy_na = False,\n",
    "                                     drop_first = [True, True, True, True])"
   ]
  },
  {
   "cell_type": "code",
   "execution_count": null,
   "id": "3ecddea6",
   "metadata": {},
   "outputs": [],
   "source": [
    "dummy_df.head()"
   ]
  },
  {
   "cell_type": "code",
   "execution_count": null,
   "id": "ac78ab4c",
   "metadata": {},
   "outputs": [],
   "source": [
    "df = pd.concat([df, dummy_df], axis=1)\n",
    "df.head()"
   ]
  },
  {
   "cell_type": "code",
   "execution_count": null,
   "id": "fa663947",
   "metadata": {},
   "outputs": [],
   "source": [
    "# visualize\n",
    "for col in numcols:\n",
    "    plt.hist(df[col])\n",
    "    plt.title(df[col])\n"
   ]
  },
  {
   "cell_type": "markdown",
   "id": "e7c0255d",
   "metadata": {},
   "source": [
    "#### Create a function named prep_telco that accepts the raw telco data, and returns the data with the transformations above applied"
   ]
  },
  {
   "cell_type": "code",
   "execution_count": null,
   "id": "889c9be1",
   "metadata": {},
   "outputs": [],
   "source": [
    "def prep_telco(df):\n",
    "    '''Cleans up unnecessary columns and uses straight-forward\n",
    "    column names.\n",
    "    '''   \n",
    "    # Drop dups\n",
    "    df.drop_duplicates(inplace=True)\n",
    "    \n",
    "    # Remove unneeded columns\n",
    "    columns_to_drop = ['payment_type_id', 'internet_service_type_id', 'contract_type_id', 'customer_id']\n",
    "    df = df.drop(columns = columns_to_drop)\n",
    "    \n",
    "    # Encode categorical variables\n",
    "    dummy_df = pd.get_dummies(df[['payment_type', \n",
    "                                    'internet_service_type', \n",
    "                                    'contract_type']],\n",
    "                                     dummy_na = False,\n",
    "                                     drop_first = [True, True, True, True])\n",
    "    \n",
    "    # Drop unneeded columns without numeric data\n",
    "    return df"
   ]
  },
  {
   "cell_type": "code",
   "execution_count": null,
   "id": "ec001f3a",
   "metadata": {},
   "outputs": [],
   "source": [
    "prep_telco(df)"
   ]
  },
  {
   "cell_type": "markdown",
   "id": "0d8c220e",
   "metadata": {},
   "source": []
  },
  {
   "cell_type": "markdown",
   "id": "1406ec9e",
   "metadata": {},
   "source": [
    "## Exploration Exercises"
   ]
  },
  {
   "cell_type": "markdown",
   "id": "0c006851",
   "metadata": {},
   "source": [
    "### Section 1 - iris_db: Using iris data from our mySQL server and the methods used in the lesson above:"
   ]
  },
  {
   "cell_type": "code",
   "execution_count": null,
   "id": "211154c4",
   "metadata": {
    "scrolled": true
   },
   "outputs": [],
   "source": []
  },
  {
   "cell_type": "code",
   "execution_count": null,
   "id": "dc03ccb4",
   "metadata": {},
   "outputs": [],
   "source": []
  },
  {
   "cell_type": "code",
   "execution_count": 19,
   "id": "09fc4e5b",
   "metadata": {},
   "outputs": [
    {
     "ename": "KeyError",
     "evalue": "\"['species_id' 'measurement_id'] not found in axis\"",
     "output_type": "error",
     "traceback": [
      "\u001b[0;31m---------------------------------------------------------------------------\u001b[0m",
      "\u001b[0;31mKeyError\u001b[0m                                  Traceback (most recent call last)",
      "\u001b[0;32m/var/folders/x6/9q2vjsz90nx_0lgx5gr8g33w0000gn/T/ipykernel_20279/282670816.py\u001b[0m in \u001b[0;36m<module>\u001b[0;34m\u001b[0m\n\u001b[0;32m----> 1\u001b[0;31m \u001b[0mprep\u001b[0m\u001b[0;34m(\u001b[0m\u001b[0mdf\u001b[0m\u001b[0;34m)\u001b[0m\u001b[0;34m\u001b[0m\u001b[0;34m\u001b[0m\u001b[0m\n\u001b[0m",
      "\u001b[0;32m~/codeup-data-science/classification-exercises/prepare.py\u001b[0m in \u001b[0;36mprep_iris\u001b[0;34m(df)\u001b[0m\n\u001b[1;32m     11\u001b[0m         \u001b[0mmade\u001b[0m \u001b[0mdummy\u001b[0m \u001b[0mvariables\u001b[0m \u001b[0;32min\u001b[0m \u001b[0morder\u001b[0m \u001b[0mto\u001b[0m \u001b[0mbetter\u001b[0m \u001b[0mdefine\u001b[0m \u001b[0mfindings\u001b[0m\u001b[0;34m.\u001b[0m\u001b[0;34m\u001b[0m\u001b[0;34m\u001b[0m\u001b[0m\n\u001b[1;32m     12\u001b[0m         '''       \n\u001b[0;32m---> 13\u001b[0;31m         \u001b[0;31m# Drop species_id and measurement_id\u001b[0m\u001b[0;34m\u001b[0m\u001b[0;34m\u001b[0m\u001b[0m\n\u001b[0m\u001b[1;32m     14\u001b[0m         \u001b[0mdf\u001b[0m \u001b[0;34m=\u001b[0m \u001b[0mdf\u001b[0m\u001b[0;34m.\u001b[0m\u001b[0mdrop\u001b[0m\u001b[0;34m(\u001b[0m\u001b[0;34m[\u001b[0m\u001b[0;34m'species_id'\u001b[0m\u001b[0;34m,\u001b[0m \u001b[0;34m'measurement_id'\u001b[0m\u001b[0;34m]\u001b[0m\u001b[0;34m,\u001b[0m\u001b[0minplace\u001b[0m\u001b[0;34m=\u001b[0m\u001b[0;32mTrue\u001b[0m\u001b[0;34m)\u001b[0m\u001b[0;34m\u001b[0m\u001b[0;34m\u001b[0m\u001b[0m\n\u001b[1;32m     15\u001b[0m         \u001b[0;31m# Rename species_name to species\u001b[0m\u001b[0;34m\u001b[0m\u001b[0;34m\u001b[0m\u001b[0m\n",
      "\u001b[0;32m~/opt/anaconda3/lib/python3.9/site-packages/pandas/util/_decorators.py\u001b[0m in \u001b[0;36mwrapper\u001b[0;34m(*args, **kwargs)\u001b[0m\n\u001b[1;32m    309\u001b[0m                     \u001b[0mstacklevel\u001b[0m\u001b[0;34m=\u001b[0m\u001b[0mstacklevel\u001b[0m\u001b[0;34m,\u001b[0m\u001b[0;34m\u001b[0m\u001b[0;34m\u001b[0m\u001b[0m\n\u001b[1;32m    310\u001b[0m                 )\n\u001b[0;32m--> 311\u001b[0;31m             \u001b[0;32mreturn\u001b[0m \u001b[0mfunc\u001b[0m\u001b[0;34m(\u001b[0m\u001b[0;34m*\u001b[0m\u001b[0margs\u001b[0m\u001b[0;34m,\u001b[0m \u001b[0;34m**\u001b[0m\u001b[0mkwargs\u001b[0m\u001b[0;34m)\u001b[0m\u001b[0;34m\u001b[0m\u001b[0;34m\u001b[0m\u001b[0m\n\u001b[0m\u001b[1;32m    312\u001b[0m \u001b[0;34m\u001b[0m\u001b[0m\n\u001b[1;32m    313\u001b[0m         \u001b[0;32mreturn\u001b[0m \u001b[0mwrapper\u001b[0m\u001b[0;34m\u001b[0m\u001b[0;34m\u001b[0m\u001b[0m\n",
      "\u001b[0;32m~/opt/anaconda3/lib/python3.9/site-packages/pandas/core/frame.py\u001b[0m in \u001b[0;36mdrop\u001b[0;34m(self, labels, axis, index, columns, level, inplace, errors)\u001b[0m\n\u001b[1;32m   4904\u001b[0m                 \u001b[0mweight\u001b[0m  \u001b[0;36m1.0\u001b[0m     \u001b[0;36m0.8\u001b[0m\u001b[0;34m\u001b[0m\u001b[0;34m\u001b[0m\u001b[0m\n\u001b[1;32m   4905\u001b[0m         \"\"\"\n\u001b[0;32m-> 4906\u001b[0;31m         return super().drop(\n\u001b[0m\u001b[1;32m   4907\u001b[0m             \u001b[0mlabels\u001b[0m\u001b[0;34m=\u001b[0m\u001b[0mlabels\u001b[0m\u001b[0;34m,\u001b[0m\u001b[0;34m\u001b[0m\u001b[0;34m\u001b[0m\u001b[0m\n\u001b[1;32m   4908\u001b[0m             \u001b[0maxis\u001b[0m\u001b[0;34m=\u001b[0m\u001b[0maxis\u001b[0m\u001b[0;34m,\u001b[0m\u001b[0;34m\u001b[0m\u001b[0;34m\u001b[0m\u001b[0m\n",
      "\u001b[0;32m~/opt/anaconda3/lib/python3.9/site-packages/pandas/core/generic.py\u001b[0m in \u001b[0;36mdrop\u001b[0;34m(self, labels, axis, index, columns, level, inplace, errors)\u001b[0m\n\u001b[1;32m   4148\u001b[0m         \u001b[0;32mfor\u001b[0m \u001b[0maxis\u001b[0m\u001b[0;34m,\u001b[0m \u001b[0mlabels\u001b[0m \u001b[0;32min\u001b[0m \u001b[0maxes\u001b[0m\u001b[0;34m.\u001b[0m\u001b[0mitems\u001b[0m\u001b[0;34m(\u001b[0m\u001b[0;34m)\u001b[0m\u001b[0;34m:\u001b[0m\u001b[0;34m\u001b[0m\u001b[0;34m\u001b[0m\u001b[0m\n\u001b[1;32m   4149\u001b[0m             \u001b[0;32mif\u001b[0m \u001b[0mlabels\u001b[0m \u001b[0;32mis\u001b[0m \u001b[0;32mnot\u001b[0m \u001b[0;32mNone\u001b[0m\u001b[0;34m:\u001b[0m\u001b[0;34m\u001b[0m\u001b[0;34m\u001b[0m\u001b[0m\n\u001b[0;32m-> 4150\u001b[0;31m                 \u001b[0mobj\u001b[0m \u001b[0;34m=\u001b[0m \u001b[0mobj\u001b[0m\u001b[0;34m.\u001b[0m\u001b[0m_drop_axis\u001b[0m\u001b[0;34m(\u001b[0m\u001b[0mlabels\u001b[0m\u001b[0;34m,\u001b[0m \u001b[0maxis\u001b[0m\u001b[0;34m,\u001b[0m \u001b[0mlevel\u001b[0m\u001b[0;34m=\u001b[0m\u001b[0mlevel\u001b[0m\u001b[0;34m,\u001b[0m \u001b[0merrors\u001b[0m\u001b[0;34m=\u001b[0m\u001b[0merrors\u001b[0m\u001b[0;34m)\u001b[0m\u001b[0;34m\u001b[0m\u001b[0;34m\u001b[0m\u001b[0m\n\u001b[0m\u001b[1;32m   4151\u001b[0m \u001b[0;34m\u001b[0m\u001b[0m\n\u001b[1;32m   4152\u001b[0m         \u001b[0;32mif\u001b[0m \u001b[0minplace\u001b[0m\u001b[0;34m:\u001b[0m\u001b[0;34m\u001b[0m\u001b[0;34m\u001b[0m\u001b[0m\n",
      "\u001b[0;32m~/opt/anaconda3/lib/python3.9/site-packages/pandas/core/generic.py\u001b[0m in \u001b[0;36m_drop_axis\u001b[0;34m(self, labels, axis, level, errors)\u001b[0m\n\u001b[1;32m   4183\u001b[0m                 \u001b[0mnew_axis\u001b[0m \u001b[0;34m=\u001b[0m \u001b[0maxis\u001b[0m\u001b[0;34m.\u001b[0m\u001b[0mdrop\u001b[0m\u001b[0;34m(\u001b[0m\u001b[0mlabels\u001b[0m\u001b[0;34m,\u001b[0m \u001b[0mlevel\u001b[0m\u001b[0;34m=\u001b[0m\u001b[0mlevel\u001b[0m\u001b[0;34m,\u001b[0m \u001b[0merrors\u001b[0m\u001b[0;34m=\u001b[0m\u001b[0merrors\u001b[0m\u001b[0;34m)\u001b[0m\u001b[0;34m\u001b[0m\u001b[0;34m\u001b[0m\u001b[0m\n\u001b[1;32m   4184\u001b[0m             \u001b[0;32melse\u001b[0m\u001b[0;34m:\u001b[0m\u001b[0;34m\u001b[0m\u001b[0;34m\u001b[0m\u001b[0m\n\u001b[0;32m-> 4185\u001b[0;31m                 \u001b[0mnew_axis\u001b[0m \u001b[0;34m=\u001b[0m \u001b[0maxis\u001b[0m\u001b[0;34m.\u001b[0m\u001b[0mdrop\u001b[0m\u001b[0;34m(\u001b[0m\u001b[0mlabels\u001b[0m\u001b[0;34m,\u001b[0m \u001b[0merrors\u001b[0m\u001b[0;34m=\u001b[0m\u001b[0merrors\u001b[0m\u001b[0;34m)\u001b[0m\u001b[0;34m\u001b[0m\u001b[0;34m\u001b[0m\u001b[0m\n\u001b[0m\u001b[1;32m   4186\u001b[0m             \u001b[0mresult\u001b[0m \u001b[0;34m=\u001b[0m \u001b[0mself\u001b[0m\u001b[0;34m.\u001b[0m\u001b[0mreindex\u001b[0m\u001b[0;34m(\u001b[0m\u001b[0;34m**\u001b[0m\u001b[0;34m{\u001b[0m\u001b[0maxis_name\u001b[0m\u001b[0;34m:\u001b[0m \u001b[0mnew_axis\u001b[0m\u001b[0;34m}\u001b[0m\u001b[0;34m)\u001b[0m\u001b[0;34m\u001b[0m\u001b[0;34m\u001b[0m\u001b[0m\n\u001b[1;32m   4187\u001b[0m \u001b[0;34m\u001b[0m\u001b[0m\n",
      "\u001b[0;32m~/opt/anaconda3/lib/python3.9/site-packages/pandas/core/indexes/base.py\u001b[0m in \u001b[0;36mdrop\u001b[0;34m(self, labels, errors)\u001b[0m\n\u001b[1;32m   6015\u001b[0m         \u001b[0;32mif\u001b[0m \u001b[0mmask\u001b[0m\u001b[0;34m.\u001b[0m\u001b[0many\u001b[0m\u001b[0;34m(\u001b[0m\u001b[0;34m)\u001b[0m\u001b[0;34m:\u001b[0m\u001b[0;34m\u001b[0m\u001b[0;34m\u001b[0m\u001b[0m\n\u001b[1;32m   6016\u001b[0m             \u001b[0;32mif\u001b[0m \u001b[0merrors\u001b[0m \u001b[0;34m!=\u001b[0m \u001b[0;34m\"ignore\"\u001b[0m\u001b[0;34m:\u001b[0m\u001b[0;34m\u001b[0m\u001b[0;34m\u001b[0m\u001b[0m\n\u001b[0;32m-> 6017\u001b[0;31m                 \u001b[0;32mraise\u001b[0m \u001b[0mKeyError\u001b[0m\u001b[0;34m(\u001b[0m\u001b[0;34mf\"{labels[mask]} not found in axis\"\u001b[0m\u001b[0;34m)\u001b[0m\u001b[0;34m\u001b[0m\u001b[0;34m\u001b[0m\u001b[0m\n\u001b[0m\u001b[1;32m   6018\u001b[0m             \u001b[0mindexer\u001b[0m \u001b[0;34m=\u001b[0m \u001b[0mindexer\u001b[0m\u001b[0;34m[\u001b[0m\u001b[0;34m~\u001b[0m\u001b[0mmask\u001b[0m\u001b[0;34m]\u001b[0m\u001b[0;34m\u001b[0m\u001b[0;34m\u001b[0m\u001b[0m\n\u001b[1;32m   6019\u001b[0m         \u001b[0;32mreturn\u001b[0m \u001b[0mself\u001b[0m\u001b[0;34m.\u001b[0m\u001b[0mdelete\u001b[0m\u001b[0;34m(\u001b[0m\u001b[0mindexer\u001b[0m\u001b[0;34m)\u001b[0m\u001b[0;34m\u001b[0m\u001b[0;34m\u001b[0m\u001b[0m\n",
      "\u001b[0;31mKeyError\u001b[0m: \"['species_id' 'measurement_id'] not found in axis\""
     ]
    }
   ],
   "source": []
  },
  {
   "cell_type": "code",
   "execution_count": null,
   "id": "f2238b62",
   "metadata": {},
   "outputs": [],
   "source": []
  }
 ],
 "metadata": {
  "kernelspec": {
   "display_name": "Python 3 (ipykernel)",
   "language": "python",
   "name": "python3"
  },
  "language_info": {
   "codemirror_mode": {
    "name": "ipython",
    "version": 3
   },
   "file_extension": ".py",
   "mimetype": "text/x-python",
   "name": "python",
   "nbconvert_exporter": "python",
   "pygments_lexer": "ipython3",
   "version": "3.9.7"
  }
 },
 "nbformat": 4,
 "nbformat_minor": 5
}
