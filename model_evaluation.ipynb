{
 "cells": [
  {
   "cell_type": "code",
   "execution_count": 1,
   "id": "1f3ff5bb",
   "metadata": {},
   "outputs": [],
   "source": [
    "import numpy as np\n",
    "import pandas as pd\n",
    "import matplotlib.pyplot as plt\n",
    "import seaborn as sns\n",
    "import scipy.stats as stats\n",
    "from pydataset import data\n",
    "\n",
    "from sklearn.model_selection import train_test_split\n",
    "from sklearn.impute import SimpleImputer\n",
    "import sklearn as sk\n",
    "import env\n",
    "\n",
    "# filter out warnings\n",
    "import warnings\n",
    "warnings.filterwarnings('ignore')\n",
    "\n",
    "# our own scripts\n",
    "import acquire\n",
    "import prepare"
   ]
  },
  {
   "cell_type": "markdown",
   "id": "d796adc9",
   "metadata": {},
   "source": [
    "### Model Evaluation Exercises\n",
    "\n",
    "\n",
    "\n",
    "2. Given the following confusion matrix, evaluate (by hand) the model's performance.\n",
    "\n",
    "\n",
    "|               | pred dog   | pred cat   |\n",
    "|:------------  |-----------:|-----------:|\n",
    "| actual dog    |         46 |         7  |\n",
    "| actual cat    |         13 |         34 |"
   ]
  },
  {
   "cell_type": "code",
   "execution_count": 108,
   "id": "6c7be5ba",
   "metadata": {},
   "outputs": [],
   "source": [
    "# positive case = dog\n",
    "# negative case = cat"
   ]
  },
  {
   "cell_type": "code",
   "execution_count": 2,
   "id": "12d10f14",
   "metadata": {},
   "outputs": [
    {
     "data": {
      "text/plain": [
       "0.8"
      ]
     },
     "execution_count": 2,
     "metadata": {},
     "output_type": "execute_result"
    }
   ],
   "source": [
    "# Accuracy:\n",
    "accuracy = (46 + 34)/(46 + 7 + 13 + 34)\n",
    "accuracy"
   ]
  },
  {
   "cell_type": "code",
   "execution_count": 3,
   "id": "40f57f50",
   "metadata": {},
   "outputs": [
    {
     "data": {
      "text/plain": [
       "0.8679245283018868"
      ]
     },
     "execution_count": 3,
     "metadata": {},
     "output_type": "execute_result"
    }
   ],
   "source": [
    "# Precision:\n",
    "precision = 46/(46+7)\n",
    "precision"
   ]
  },
  {
   "cell_type": "code",
   "execution_count": 4,
   "id": "d5552b28",
   "metadata": {},
   "outputs": [
    {
     "data": {
      "text/plain": [
       "0.7796610169491526"
      ]
     },
     "execution_count": 4,
     "metadata": {},
     "output_type": "execute_result"
    }
   ],
   "source": [
    "# Recall:\n",
    "recall = 46/(46+13) \n",
    "recall"
   ]
  },
  {
   "cell_type": "markdown",
   "id": "b14b8fad",
   "metadata": {},
   "source": [
    "#### In the context of this problem, what is a false positive?"
   ]
  },
  {
   "cell_type": "markdown",
   "id": "f96a168b",
   "metadata": {},
   "source": [
    "Its actually a dog but we predicted it as a cat."
   ]
  },
  {
   "cell_type": "markdown",
   "id": "e40e4405",
   "metadata": {},
   "source": [
    "#### In the context of this problem, what is a false negative?"
   ]
  },
  {
   "cell_type": "markdown",
   "id": "02a12293",
   "metadata": {},
   "source": [
    "Its actually a cat but we predicted a dog."
   ]
  },
  {
   "cell_type": "markdown",
   "id": "1c15e4e2",
   "metadata": {},
   "source": [
    "#### How would you describe this model?"
   ]
  },
  {
   "cell_type": "code",
   "execution_count": 110,
   "id": "333d7874",
   "metadata": {},
   "outputs": [
    {
     "name": "stdout",
     "output_type": "stream",
     "text": [
      "   model accuracy: 0.8\n",
      "baseline accuracy: 0.46\n",
      "\n",
      "   model recall: 0.8679245283018868\n",
      "baseline recall: 1.0\n",
      "\n",
      "model precision: 0.7796610169491526\n",
      "baseline precision: 0.46\n"
     ]
    }
   ],
   "source": [
    "# If every instance was a dog:\n",
    "actual_dog = 53 \n",
    "actual_cat = 47\n",
    "pred_dog = 59\n",
    "pred_cat = 41\n",
    "baseline = 100\n",
    "\n",
    "# model accuracy:(TP + TN)/(TP+TN+FP+FN)\n",
    "model_accuracy = (46 + 34)/(46 + 7 + 13 + 34)\n",
    "\n",
    "# baseline accuracy:\n",
    "baseline_accuracy = 46/100\n",
    "\n",
    "# model_precision:(TP)/(TP+FP)\n",
    "model_precision = 46/(46+13)\n",
    "      \n",
    "#baseline_precison:\n",
    "baseline_precision = 46/100\n",
    "      \n",
    "# model_recall:(TP)/(TP+)\n",
    "model_recall = 46/(46+7)\n",
    "      \n",
    "#baseline_precison: (zero FN because all positive)\n",
    "baseline_recall = 46/46\n",
    "      \n",
    "print(f'   model accuracy: {model_accuracy}')\n",
    "print(f'baseline accuracy: {baseline_accuracy}')\n",
    "print()\n",
    "print(f'   model recall: {model_recall}')\n",
    "print(f'baseline recall: {baseline_recall}')\n",
    "print()\n",
    "print(f'model precision: {model_precision}')\n",
    "print(f'baseline precision: {baseline_precision}')"
   ]
  },
  {
   "cell_type": "markdown",
   "id": "f8d16c0c",
   "metadata": {},
   "source": [
    " The model is overall accurate at 80% (34% more than the baseline). It airs on the side of guessing dog(a slightly higher recall rate) at the cost of less accurate dog predictions(lower precision of 78%)."
   ]
  },
  {
   "cell_type": "markdown",
   "id": "03394e17",
   "metadata": {},
   "source": [
    "### 3. You are working as a datascientist working for Codeup Cody Creator (C3 for short), a rubber-duck manufacturing plant.\n",
    "\n",
    "#### Unfortunately, some of the rubber ducks that are produced will have defects. Your team has built several models that try to predict those defects, and the data from their predictions can be found here.\n",
    "\n",
    "#### Use the predictions dataset and pandas to help answer the following questions:"
   ]
  },
  {
   "cell_type": "code",
   "execution_count": 118,
   "id": "55757d1f",
   "metadata": {
    "scrolled": true
   },
   "outputs": [
    {
     "data": {
      "text/html": [
       "<div>\n",
       "<style scoped>\n",
       "    .dataframe tbody tr th:only-of-type {\n",
       "        vertical-align: middle;\n",
       "    }\n",
       "\n",
       "    .dataframe tbody tr th {\n",
       "        vertical-align: top;\n",
       "    }\n",
       "\n",
       "    .dataframe thead th {\n",
       "        text-align: right;\n",
       "    }\n",
       "</style>\n",
       "<table border=\"1\" class=\"dataframe\">\n",
       "  <thead>\n",
       "    <tr style=\"text-align: right;\">\n",
       "      <th></th>\n",
       "      <th>actual</th>\n",
       "      <th>model1</th>\n",
       "      <th>model2</th>\n",
       "      <th>model3</th>\n",
       "    </tr>\n",
       "  </thead>\n",
       "  <tbody>\n",
       "    <tr>\n",
       "      <th>0</th>\n",
       "      <td>No Defect</td>\n",
       "      <td>No Defect</td>\n",
       "      <td>Defect</td>\n",
       "      <td>No Defect</td>\n",
       "    </tr>\n",
       "    <tr>\n",
       "      <th>1</th>\n",
       "      <td>No Defect</td>\n",
       "      <td>No Defect</td>\n",
       "      <td>Defect</td>\n",
       "      <td>Defect</td>\n",
       "    </tr>\n",
       "    <tr>\n",
       "      <th>2</th>\n",
       "      <td>No Defect</td>\n",
       "      <td>No Defect</td>\n",
       "      <td>Defect</td>\n",
       "      <td>No Defect</td>\n",
       "    </tr>\n",
       "    <tr>\n",
       "      <th>3</th>\n",
       "      <td>No Defect</td>\n",
       "      <td>Defect</td>\n",
       "      <td>Defect</td>\n",
       "      <td>Defect</td>\n",
       "    </tr>\n",
       "    <tr>\n",
       "      <th>4</th>\n",
       "      <td>No Defect</td>\n",
       "      <td>No Defect</td>\n",
       "      <td>Defect</td>\n",
       "      <td>No Defect</td>\n",
       "    </tr>\n",
       "  </tbody>\n",
       "</table>\n",
       "</div>"
      ],
      "text/plain": [
       "      actual     model1  model2     model3\n",
       "0  No Defect  No Defect  Defect  No Defect\n",
       "1  No Defect  No Defect  Defect     Defect\n",
       "2  No Defect  No Defect  Defect  No Defect\n",
       "3  No Defect     Defect  Defect     Defect\n",
       "4  No Defect  No Defect  Defect  No Defect"
      ]
     },
     "execution_count": 118,
     "metadata": {},
     "output_type": "execute_result"
    }
   ],
   "source": [
    "df = pd.read_csv('c3.csv')\n",
    "df.head()"
   ]
  },
  {
   "cell_type": "code",
   "execution_count": 119,
   "id": "66771c68",
   "metadata": {},
   "outputs": [
    {
     "data": {
      "text/html": [
       "<div>\n",
       "<style scoped>\n",
       "    .dataframe tbody tr th:only-of-type {\n",
       "        vertical-align: middle;\n",
       "    }\n",
       "\n",
       "    .dataframe tbody tr th {\n",
       "        vertical-align: top;\n",
       "    }\n",
       "\n",
       "    .dataframe thead th {\n",
       "        text-align: right;\n",
       "    }\n",
       "</style>\n",
       "<table border=\"1\" class=\"dataframe\">\n",
       "  <thead>\n",
       "    <tr style=\"text-align: right;\">\n",
       "      <th></th>\n",
       "      <th>actual</th>\n",
       "      <th>model1</th>\n",
       "      <th>model2</th>\n",
       "      <th>model3</th>\n",
       "    </tr>\n",
       "  </thead>\n",
       "  <tbody>\n",
       "    <tr>\n",
       "      <th>count</th>\n",
       "      <td>200</td>\n",
       "      <td>200</td>\n",
       "      <td>200</td>\n",
       "      <td>200</td>\n",
       "    </tr>\n",
       "    <tr>\n",
       "      <th>unique</th>\n",
       "      <td>2</td>\n",
       "      <td>2</td>\n",
       "      <td>2</td>\n",
       "      <td>2</td>\n",
       "    </tr>\n",
       "    <tr>\n",
       "      <th>top</th>\n",
       "      <td>No Defect</td>\n",
       "      <td>No Defect</td>\n",
       "      <td>No Defect</td>\n",
       "      <td>No Defect</td>\n",
       "    </tr>\n",
       "    <tr>\n",
       "      <th>freq</th>\n",
       "      <td>184</td>\n",
       "      <td>190</td>\n",
       "      <td>110</td>\n",
       "      <td>101</td>\n",
       "    </tr>\n",
       "  </tbody>\n",
       "</table>\n",
       "</div>"
      ],
      "text/plain": [
       "           actual     model1     model2     model3\n",
       "count         200        200        200        200\n",
       "unique          2          2          2          2\n",
       "top     No Defect  No Defect  No Defect  No Defect\n",
       "freq          184        190        110        101"
      ]
     },
     "execution_count": 119,
     "metadata": {},
     "output_type": "execute_result"
    }
   ],
   "source": [
    "df.describe()"
   ]
  },
  {
   "cell_type": "code",
   "execution_count": 120,
   "id": "b07ce45b",
   "metadata": {},
   "outputs": [
    {
     "name": "stdout",
     "output_type": "stream",
     "text": [
      "<class 'pandas.core.frame.DataFrame'>\n",
      "RangeIndex: 200 entries, 0 to 199\n",
      "Data columns (total 4 columns):\n",
      " #   Column  Non-Null Count  Dtype \n",
      "---  ------  --------------  ----- \n",
      " 0   actual  200 non-null    object\n",
      " 1   model1  200 non-null    object\n",
      " 2   model2  200 non-null    object\n",
      " 3   model3  200 non-null    object\n",
      "dtypes: object(4)\n",
      "memory usage: 6.4+ KB\n"
     ]
    }
   ],
   "source": [
    "df.info()"
   ]
  },
  {
   "cell_type": "markdown",
   "id": "fa421459",
   "metadata": {},
   "source": [
    "#### An internal team wants to investigate the cause of the manufacturing defects. They tell you that they want to identify as many of the ducks that have a defect as possible. Which evaluation metric would be appropriate here? Which model would be the best fit for this use case?"
   ]
  },
  {
   "cell_type": "code",
   "execution_count": 121,
   "id": "ca3b7623",
   "metadata": {},
   "outputs": [
    {
     "data": {
      "text/plain": [
       "No Defect    184\n",
       "Defect        16\n",
       "Name: actual, dtype: int64"
      ]
     },
     "execution_count": 121,
     "metadata": {},
     "output_type": "execute_result"
    }
   ],
   "source": [
    "df.actual.value_counts()"
   ]
  },
  {
   "cell_type": "markdown",
   "id": "4d0c7ebc",
   "metadata": {},
   "source": [
    "TP = Defect identified, defect present\n",
    "TN = No defect identified, no defect present\n",
    "FP = Defect indentified, no defect present\n",
    "FN = No defect identified, defect present\n",
    "\n",
    "- **Which evaluation metric should be used?**\n",
    " Recall with FN having the most impact(expense)\n",
    "\n",
    "- **Which model would be the best fit for this use case?**\n",
    " Model3 would be best fit with it having the most defects identified."
   ]
  },
  {
   "cell_type": "markdown",
   "id": "535c4053",
   "metadata": {},
   "source": [
    "#### Recently several stories in the local news have come out highlighting customers who received a rubber duck with a defect, and portraying C3 in a bad light. The PR team has decided to launch a program that gives customers with a defective duck a vacation to Hawaii. They need you to predict which ducks will have defects, but tell you the really don't want to accidentally give out a vacation package when the duck really doesn't have a defect. Which evaluation metric would be appropriate here? Which model would be the best fit for this use case?"
   ]
  },
  {
   "cell_type": "code",
   "execution_count": 127,
   "id": "5b0b89e8",
   "metadata": {},
   "outputs": [],
   "source": [
    "df['baseline'] = 'Defect'\n",
    "\n",
    "model1 = df[['actual', 'model1']]\n",
    "model1['baseline'] = model1.actual.mode()[0]\n",
    "\n",
    "model2 = df[['actual', 'model2']]\n",
    "model2['baseline'] = model2.actual.mode()[0]\n",
    "\n",
    "model3 = df[['actual', 'model3']]\n",
    "model3['baseline'] = model3.actual.mode()[0]"
   ]
  },
  {
   "cell_type": "code",
   "execution_count": 128,
   "id": "f45bfe7f",
   "metadata": {},
   "outputs": [],
   "source": [
    "# Model 1\n",
    "positive = 'Defect'\n",
    "\n",
    "# accuracy -- overall hit rate\n",
    "model_accuracy = (df.model1 == df.actual).mean()\n",
    "baseline_accuracy = (df.baseline == df.actual).mean()\n",
    "# precision -- how good are our positive predictions?\n",
    "# precision -- model performance | predicted positive\n",
    "subset = df[df.model1 == positive]\n",
    "model_precision = (subset.model1 == subset.actual).mean()\n",
    "subset = df[df.baseline == positive]\n",
    "baseline_precision = (subset.baseline == subset.actual).mean()\n",
    "# recall -- how good are we at detecting actual positives?\n",
    "# recall -- model performance | actual positive\n",
    "subset = df[df.actual == positive]\n",
    "model_recall = (subset.model1 == subset.actual).mean()\n",
    "baseline_recall = (subset.baseline == subset.actual).mean()\n"
   ]
  },
  {
   "cell_type": "code",
   "execution_count": 129,
   "id": "50ec105b",
   "metadata": {},
   "outputs": [],
   "source": [
    "# Model 2\n",
    "positive = 'Defect'\n",
    "\n",
    "# accuracy -- overall hit rate\n",
    "model_accuracy = (df.model2 == df.actual).mean()\n",
    "baseline_accuracy = (df.baseline == df.actual).mean()\n",
    "# precision -- how good are our positive predictions?\n",
    "# precision -- model performance | predicted positive\n",
    "subset = df[df.model2 == positive]\n",
    "model_precision = (subset.model2 == subset.actual).mean()\n",
    "subset = df[df.baseline == positive]\n",
    "baseline_precision = (subset.baseline == subset.actual).mean()\n",
    "# recall -- how good are we at detecting actual positives?\n",
    "# recall -- model performance | actual positive\n",
    "subset = df[df.actual == positive]\n",
    "model_recall = (subset.model2 == subset.actual).mean()\n",
    "baseline_recall = (subset.baseline == subset.actual).mean()\n"
   ]
  },
  {
   "cell_type": "code",
   "execution_count": 130,
   "id": "1ab18058",
   "metadata": {},
   "outputs": [],
   "source": [
    "# Model 3\n",
    "positive = 'Defect'\n",
    "\n",
    "# accuracy -- overall hit rate\n",
    "model_accuracy = (df.model3 == df.actual).mean()\n",
    "baseline_accuracy = (df.baseline == df.actual).mean()\n",
    "# precision -- how good are our positive predictions?\n",
    "# precision -- model performance | predicted positive\n",
    "subset = df[df.model3 == positive]\n",
    "model_precision = (subset.model3 == subset.actual).mean()\n",
    "subset = df[df.baseline == positive]\n",
    "baseline_precision = (subset.baseline == subset.actual).mean()\n",
    "# recall -- how good are we at detecting actual positives?\n",
    "# recall -- model performance | actual positive\n",
    "subset = df[df.actual == positive]\n",
    "model_recall = (subset.model3 == subset.actual).mean()\n",
    "baseline_recall = (subset.baseline == subset.actual).mean()\n"
   ]
  },
  {
   "cell_type": "code",
   "execution_count": 131,
   "id": "99a0dd4f",
   "metadata": {},
   "outputs": [
    {
     "name": "stdout",
     "output_type": "stream",
     "text": [
      "==========================\n",
      "Model 1:\n",
      "--------------------------\n",
      "   model accuracy: 80.74%\n",
      "baseline accuracy: 65.08%\n",
      "--------------------------\n",
      "   model recall: 80.33%\n",
      "baseline recall: 100.00%\n",
      "--------------------------\n",
      "model precision: 80.33%\n",
      "baseline precision: 100.00%\n",
      "==========================\n",
      "Model 2:\n",
      "--------------------------\n",
      "   model accuracy: 63.04%\n",
      "baseline accuracy: 65.08%\n",
      "--------------------------\n",
      "   model recall: 49.08%\n",
      "baseline recall: 100.00%\n",
      "--------------------------\n",
      "model precision: 49.08%\n",
      "baseline precision: 100.00%\n",
      "==========================\n",
      "Model 3:\n",
      "--------------------------\n",
      "   model accuracy: 50.96%\n",
      "baseline accuracy: 65.08%\n",
      "--------------------------\n",
      "   model recall: 50.86%\n",
      "baseline recall: 100.00%\n",
      "--------------------------\n",
      "model precision: 50.86%\n",
      "baseline precision: 100.00%\n",
      "==========================\n"
     ]
    }
   ],
   "source": [
    "print('==========================')\n",
    "print('Model 1:')\n",
    "print('--------------------------')\n",
    "print(f'   model accuracy: {model_accuracy1:.2%}')\n",
    "print(f'baseline accuracy: {baseline_accuracy1:.2%}')\n",
    "print('--------------------------')\n",
    "print(f'   model recall: {model_recall1:.2%}')\n",
    "print(f'baseline recall: {baseline_recall1:.2%}')\n",
    "print('--------------------------')\n",
    "print(f'model precision: {model_precision1:.2%}')\n",
    "print(f'baseline precision: {baseline_precision1:.2%}')\n",
    "print('==========================')\n",
    "print('Model 2:')\n",
    "print('--------------------------')\n",
    "print(f'   model accuracy: {model_accuracy2:.2%}')\n",
    "print(f'baseline accuracy: {baseline_accuracy2:.2%}')\n",
    "print('--------------------------')\n",
    "print(f'   model recall: {model_recall2:.2%}')\n",
    "print(f'baseline recall: {baseline_recall2:.2%}')\n",
    "print('--------------------------')\n",
    "print(f'model precision: {model_precision2:.2%}')\n",
    "print(f'baseline precision: {baseline_precision2:.2%}')\n",
    "print('==========================')\n",
    "print('Model 3:')\n",
    "print('--------------------------')\n",
    "print(f'   model accuracy: {model_accuracy3:.2%}')\n",
    "print(f'baseline accuracy: {baseline_accuracy3:.2%}')\n",
    "print('--------------------------')\n",
    "print(f'   model recall: {model_recall3:.2%}')\n",
    "print(f'baseline recall: {baseline_recall3:.2%}')\n",
    "print('--------------------------')\n",
    "print(f'model precision: {model_precision3:.2%}')\n",
    "print(f'baseline precision: {baseline_precision3:.2%}')\n",
    "print('==========================')"
   ]
  },
  {
   "cell_type": "code",
   "execution_count": 78,
   "id": "6a184704",
   "metadata": {},
   "outputs": [],
   "source": [
    "# models = [model1, model2, model3]\n",
    "# positive = 'Defect'\n",
    "\n",
    "# for i, model in enumerate(models):\n",
    "    \n",
    "#     model_number = i + 1\n",
    "    \n",
    "#     print(f'Model #{model_number}:\\n')\n",
    "#     evaluate_classifier(model, positive)\n",
    "#     print('--------------------------')"
   ]
  },
  {
   "cell_type": "code",
   "execution_count": null,
   "id": "6f0f3342",
   "metadata": {},
   "outputs": [],
   "source": []
  },
  {
   "cell_type": "markdown",
   "id": "9f4d6088",
   "metadata": {},
   "source": [
    "Situation calls for precision because the cost of having an undetected defect is much higher than identifying a defect where there isn't one.\n",
    "\n",
    "Use model 1 because we want to identify as many positives, both true and false, as possible."
   ]
  },
  {
   "cell_type": "markdown",
   "id": "7007168d",
   "metadata": {},
   "source": [
    "### 4.) You are working as a data scientist for Gives You Paws ™, a subscription based service that shows you cute pictures of dogs or cats (or both for an additional fee).\n"
   ]
  },
  {
   "cell_type": "code",
   "execution_count": 133,
   "id": "72e4add4",
   "metadata": {},
   "outputs": [
    {
     "data": {
      "text/html": [
       "<div>\n",
       "<style scoped>\n",
       "    .dataframe tbody tr th:only-of-type {\n",
       "        vertical-align: middle;\n",
       "    }\n",
       "\n",
       "    .dataframe tbody tr th {\n",
       "        vertical-align: top;\n",
       "    }\n",
       "\n",
       "    .dataframe thead th {\n",
       "        text-align: right;\n",
       "    }\n",
       "</style>\n",
       "<table border=\"1\" class=\"dataframe\">\n",
       "  <thead>\n",
       "    <tr style=\"text-align: right;\">\n",
       "      <th></th>\n",
       "      <th>actual</th>\n",
       "      <th>model1</th>\n",
       "      <th>model2</th>\n",
       "      <th>model3</th>\n",
       "      <th>model4</th>\n",
       "    </tr>\n",
       "  </thead>\n",
       "  <tbody>\n",
       "    <tr>\n",
       "      <th>0</th>\n",
       "      <td>cat</td>\n",
       "      <td>cat</td>\n",
       "      <td>dog</td>\n",
       "      <td>cat</td>\n",
       "      <td>dog</td>\n",
       "    </tr>\n",
       "    <tr>\n",
       "      <th>1</th>\n",
       "      <td>dog</td>\n",
       "      <td>dog</td>\n",
       "      <td>cat</td>\n",
       "      <td>cat</td>\n",
       "      <td>dog</td>\n",
       "    </tr>\n",
       "    <tr>\n",
       "      <th>2</th>\n",
       "      <td>dog</td>\n",
       "      <td>cat</td>\n",
       "      <td>cat</td>\n",
       "      <td>cat</td>\n",
       "      <td>dog</td>\n",
       "    </tr>\n",
       "    <tr>\n",
       "      <th>3</th>\n",
       "      <td>dog</td>\n",
       "      <td>dog</td>\n",
       "      <td>dog</td>\n",
       "      <td>cat</td>\n",
       "      <td>dog</td>\n",
       "    </tr>\n",
       "    <tr>\n",
       "      <th>4</th>\n",
       "      <td>cat</td>\n",
       "      <td>cat</td>\n",
       "      <td>cat</td>\n",
       "      <td>dog</td>\n",
       "      <td>dog</td>\n",
       "    </tr>\n",
       "  </tbody>\n",
       "</table>\n",
       "</div>"
      ],
      "text/plain": [
       "  actual model1 model2 model3 model4\n",
       "0    cat    cat    dog    cat    dog\n",
       "1    dog    dog    cat    cat    dog\n",
       "2    dog    cat    cat    cat    dog\n",
       "3    dog    dog    dog    cat    dog\n",
       "4    cat    cat    cat    dog    dog"
      ]
     },
     "execution_count": 133,
     "metadata": {},
     "output_type": "execute_result"
    }
   ],
   "source": [
    "df = pd.read_csv('gives_you_paws.csv')\n",
    "df.head()"
   ]
  },
  {
   "cell_type": "markdown",
   "id": "c3e47a61",
   "metadata": {},
   "source": [
    "#### a. In terms of accuracy, how do the various models compare to the baseline model? Are any of the models better than the baseline?"
   ]
  },
  {
   "cell_type": "code",
   "execution_count": 134,
   "id": "7df6a0e9",
   "metadata": {},
   "outputs": [],
   "source": [
    "df['baseline'] = 'dog'\n",
    "\n",
    "model1 = df[['actual', 'model1', 'baseline']]\n",
    "model1['baseline'] = model1.actual.mode()[0]\n",
    "\n",
    "model2 = df[['actual', 'model2', 'baseline']]\n",
    "model2['baseline'] = model2.actual.mode()[0]\n",
    "\n",
    "model3 = df[['actual', 'model3', 'baseline']]\n",
    "model3['baseline'] = model3.actual.mode()[0]\n",
    "\n",
    "model4 = df[['actual', 'model4', 'baseline']]\n",
    "model4['baseline'] = model4.actual.mode()[0]\n"
   ]
  },
  {
   "cell_type": "code",
   "execution_count": 135,
   "id": "2d00851d",
   "metadata": {},
   "outputs": [],
   "source": [
    "# Model 1\n",
    "positive = 'dog'\n",
    "\n",
    "# accuracy -- overall hit rate\n",
    "model_accuracy1 = (df.model1 == df.actual).mean()\n",
    "baseline_accuracy1 = (df.baseline == df.actual).mean()\n",
    "# precision -- how good are our positive predictions?\n",
    "# precision -- model performance | predicted positive\n",
    "subset1 = df[df.model1 == positive]\n",
    "model_precision1 = (subset.model1 == subset.actual).mean()\n",
    "subset1 = df[df.baseline == positive]\n",
    "baseline_precision1 = (subset.baseline == subset.actual).mean()\n",
    "# recall -- how good are we at detecting actual positives?\n",
    "# recall -- model performance | actual positive\n",
    "subset1 = df[df.actual == positive]\n",
    "model_recall1 = (subset.model1 == subset.actual).mean()\n",
    "baseline_recall1 = (subset.baseline == subset.actual).mean()\n"
   ]
  },
  {
   "cell_type": "code",
   "execution_count": 136,
   "id": "45ee492d",
   "metadata": {},
   "outputs": [],
   "source": [
    "# Model 2\n",
    "positive = 'dog'\n",
    "\n",
    "# accuracy -- overall hit rate\n",
    "model_accuracy2 = (df.model2 == df.actual).mean()\n",
    "baseline_accuracy2 = (df.baseline == df.actual).mean()\n",
    "# precision -- how good are our positive predictions?\n",
    "# precision -- model performance | predicted positive\n",
    "subset2 = df[df.model2 == positive]\n",
    "model_precision2 = (subset.model2 == subset.actual).mean()\n",
    "subset2 = df[df.baseline == positive]\n",
    "baseline_precision2 = (subset.baseline == subset.actual).mean()\n",
    "# recall -- how good are we at detecting actual positives?\n",
    "# recall -- model performance | actual positive\n",
    "subset2 = df[df.actual == positive]\n",
    "model_recall2 = (subset.model2 == subset.actual).mean()\n",
    "baseline_recall2 = (subset.baseline == subset.actual).mean()\n"
   ]
  },
  {
   "cell_type": "code",
   "execution_count": 137,
   "id": "67eea6fc",
   "metadata": {},
   "outputs": [],
   "source": [
    "# Model 3\n",
    "positive = 'dog'\n",
    "\n",
    "# accuracy -- overall hit rate\n",
    "model_accuracy3 = (df.model3 == df.actual).mean()\n",
    "baseline_accuracy3 = (df.baseline == df.actual).mean()\n",
    "# precision -- how good are our positive predictions?\n",
    "# precision -- model performance | predicted positive\n",
    "subset3 = df[df.model3 == positive]\n",
    "model_precision3 = (subset.model3 == subset.actual).mean()\n",
    "subset3 = df[df.baseline == positive]\n",
    "baseline_precision3 = (subset.baseline == subset.actual).mean()\n",
    "# recall -- how good are we at detecting actual positives?\n",
    "# recall -- model performance | actual positive\n",
    "subset3 = df[df.actual == positive]\n",
    "model_recall3 = (subset.model3 == subset.actual).mean()\n",
    "baseline_recall3 = (subset.baseline == subset.actual).mean()\n"
   ]
  },
  {
   "cell_type": "code",
   "execution_count": 143,
   "id": "2133af14",
   "metadata": {},
   "outputs": [
    {
     "ename": "AttributeError",
     "evalue": "'DataFrame' object has no attribute 'model4'",
     "output_type": "error",
     "traceback": [
      "\u001b[0;31m---------------------------------------------------------------------------\u001b[0m",
      "\u001b[0;31mAttributeError\u001b[0m                            Traceback (most recent call last)",
      "\u001b[0;32m/var/folders/x6/9q2vjsz90nx_0lgx5gr8g33w0000gn/T/ipykernel_26349/2223401247.py\u001b[0m in \u001b[0;36m<module>\u001b[0;34m\u001b[0m\n\u001b[1;32m      8\u001b[0m \u001b[0;31m# precision -- model performance | predicted positive\u001b[0m\u001b[0;34m\u001b[0m\u001b[0;34m\u001b[0m\u001b[0m\n\u001b[1;32m      9\u001b[0m \u001b[0msubset4\u001b[0m \u001b[0;34m=\u001b[0m \u001b[0mdf\u001b[0m\u001b[0;34m[\u001b[0m\u001b[0mdf\u001b[0m\u001b[0;34m.\u001b[0m\u001b[0mmodel4\u001b[0m \u001b[0;34m==\u001b[0m \u001b[0mpositive\u001b[0m\u001b[0;34m]\u001b[0m\u001b[0;34m\u001b[0m\u001b[0;34m\u001b[0m\u001b[0m\n\u001b[0;32m---> 10\u001b[0;31m \u001b[0mmodel_precision4\u001b[0m \u001b[0;34m=\u001b[0m \u001b[0;34m(\u001b[0m\u001b[0msubset\u001b[0m\u001b[0;34m.\u001b[0m\u001b[0mmodel4\u001b[0m \u001b[0;34m==\u001b[0m \u001b[0msubset\u001b[0m\u001b[0;34m.\u001b[0m\u001b[0mactual\u001b[0m\u001b[0;34m)\u001b[0m\u001b[0;34m.\u001b[0m\u001b[0mmean\u001b[0m\u001b[0;34m(\u001b[0m\u001b[0;34m)\u001b[0m\u001b[0;34m\u001b[0m\u001b[0;34m\u001b[0m\u001b[0m\n\u001b[0m\u001b[1;32m     11\u001b[0m \u001b[0msubset4\u001b[0m \u001b[0;34m=\u001b[0m \u001b[0mdf\u001b[0m\u001b[0;34m[\u001b[0m\u001b[0mdf\u001b[0m\u001b[0;34m.\u001b[0m\u001b[0mbaseline\u001b[0m \u001b[0;34m==\u001b[0m \u001b[0mpositive\u001b[0m\u001b[0;34m]\u001b[0m\u001b[0;34m\u001b[0m\u001b[0;34m\u001b[0m\u001b[0m\n\u001b[1;32m     12\u001b[0m \u001b[0mbaseline_precision4\u001b[0m \u001b[0;34m=\u001b[0m \u001b[0;34m(\u001b[0m\u001b[0msubset\u001b[0m\u001b[0;34m.\u001b[0m\u001b[0mbaseline\u001b[0m \u001b[0;34m==\u001b[0m \u001b[0msubset\u001b[0m\u001b[0;34m.\u001b[0m\u001b[0mactual\u001b[0m\u001b[0;34m)\u001b[0m\u001b[0;34m.\u001b[0m\u001b[0mmean\u001b[0m\u001b[0;34m(\u001b[0m\u001b[0;34m)\u001b[0m\u001b[0;34m\u001b[0m\u001b[0;34m\u001b[0m\u001b[0m\n",
      "\u001b[0;32m~/opt/anaconda3/lib/python3.9/site-packages/pandas/core/generic.py\u001b[0m in \u001b[0;36m__getattr__\u001b[0;34m(self, name)\u001b[0m\n\u001b[1;32m   5485\u001b[0m         ):\n\u001b[1;32m   5486\u001b[0m             \u001b[0;32mreturn\u001b[0m \u001b[0mself\u001b[0m\u001b[0;34m[\u001b[0m\u001b[0mname\u001b[0m\u001b[0;34m]\u001b[0m\u001b[0;34m\u001b[0m\u001b[0;34m\u001b[0m\u001b[0m\n\u001b[0;32m-> 5487\u001b[0;31m         \u001b[0;32mreturn\u001b[0m \u001b[0mobject\u001b[0m\u001b[0;34m.\u001b[0m\u001b[0m__getattribute__\u001b[0m\u001b[0;34m(\u001b[0m\u001b[0mself\u001b[0m\u001b[0;34m,\u001b[0m \u001b[0mname\u001b[0m\u001b[0;34m)\u001b[0m\u001b[0;34m\u001b[0m\u001b[0;34m\u001b[0m\u001b[0m\n\u001b[0m\u001b[1;32m   5488\u001b[0m \u001b[0;34m\u001b[0m\u001b[0m\n\u001b[1;32m   5489\u001b[0m     \u001b[0;32mdef\u001b[0m \u001b[0m__setattr__\u001b[0m\u001b[0;34m(\u001b[0m\u001b[0mself\u001b[0m\u001b[0;34m,\u001b[0m \u001b[0mname\u001b[0m\u001b[0;34m:\u001b[0m \u001b[0mstr\u001b[0m\u001b[0;34m,\u001b[0m \u001b[0mvalue\u001b[0m\u001b[0;34m)\u001b[0m \u001b[0;34m->\u001b[0m \u001b[0;32mNone\u001b[0m\u001b[0;34m:\u001b[0m\u001b[0;34m\u001b[0m\u001b[0;34m\u001b[0m\u001b[0m\n",
      "\u001b[0;31mAttributeError\u001b[0m: 'DataFrame' object has no attribute 'model4'"
     ]
    }
   ],
   "source": [
    "# Model 4\n",
    "positive = 'dog'\n",
    "\n",
    "# accuracy -- overall hit rate\n",
    "model_accuracy4 = (df.model4 == df.actual).mean()\n",
    "baseline_accuracy4 = (df.baseline == df.actual).mean()\n",
    "# precision -- how good are our positive predictions?\n",
    "# precision -- model performance | predicted positive\n",
    "subset4 = df[df.model4 == positive]\n",
    "model_precision4 = (subset.model4 == subset.actual).mean()\n",
    "subset4 = df[df.baseline == positive]\n",
    "baseline_precision4 = (subset.baseline == subset.actual).mean()\n",
    "# recall -- how good are we at detecting actual positives?\n",
    "# recall -- model performance | actual positive\n",
    "subset4 = df[df.actual == positive]\n",
    "model_recall4 = (subset.model4 == subset.actual).mean()\n",
    "baseline_recall4 = (subset.baseline == subset.actual).mean()\n"
   ]
  },
  {
   "cell_type": "code",
   "execution_count": 141,
   "id": "c1657eee",
   "metadata": {},
   "outputs": [
    {
     "name": "stdout",
     "output_type": "stream",
     "text": [
      "============================\n",
      "MODEL 1:\n",
      "   model accuracy: 80.74%\n",
      "baseline accuracy: 65.08%\n",
      "\n",
      "   model recall: 50.00%\n",
      "baseline recall: 100.00%\n",
      "\n",
      "model precision: 50.00%\n",
      "baseline precision: 100.00%\n",
      "============================\n",
      "MODEL 2:\n",
      "   model accuracy: 63.04%\n",
      "baseline accuracy: 65.08%\n",
      "\n",
      "   model recall: 56.25%\n",
      "baseline recall: 100.00%\n",
      "\n",
      "model precision: 56.25%\n",
      "baseline precision: 100.00%\n",
      "============================\n",
      "MODEL 3:\n",
      "   model accuracy: 50.96%\n",
      "baseline accuracy: 65.08%\n",
      "\n",
      "   model recall: 81.25%\n",
      "baseline recall: 100.00%\n",
      "\n",
      "model precision: 81.25%\n",
      "baseline precision: 100.00%\n",
      "============================\n",
      "MODEL 4:\n",
      "   model accuracy: 74.26%\n",
      "baseline accuracy: 65.08%\n",
      "\n",
      "   model recall: 95.57%\n",
      "baseline recall: 100.00%\n",
      "\n",
      "model precision: 95.57%\n",
      "baseline precision: 100.00%\n",
      "============================\n"
     ]
    }
   ],
   "source": [
    "print('============================')\n",
    "print('MODEL 1:')\n",
    "\n",
    "print(f'   model accuracy: {model_accuracy1:.2%}')\n",
    "print(f'baseline accuracy: {baseline_accuracy1:.2%}')\n",
    "print()\n",
    "print(f'   model recall: {model_recall1:.2%}')\n",
    "print(f'baseline recall: {baseline_recall1:.2%}')\n",
    "print()\n",
    "print(f'model precision: {model_precision1:.2%}')\n",
    "print(f'baseline precision: {baseline_precision1:.2%}')\n",
    "print('============================')\n",
    "print('MODEL 2:')\n",
    "\n",
    "print(f'   model accuracy: {model_accuracy2:.2%}')\n",
    "print(f'baseline accuracy: {baseline_accuracy2:.2%}')\n",
    "print()\n",
    "print(f'   model recall: {model_recall2:.2%}')\n",
    "print(f'baseline recall: {baseline_recall2:.2%}')\n",
    "print()\n",
    "print(f'model precision: {model_precision2:.2%}')\n",
    "print(f'baseline precision: {baseline_precision2:.2%}')\n",
    "print('============================')\n",
    "print('MODEL 3:')\n",
    "\n",
    "print(f'   model accuracy: {model_accuracy3:.2%}')\n",
    "print(f'baseline accuracy: {baseline_accuracy3:.2%}')\n",
    "print()\n",
    "print(f'   model recall: {model_recall3:.2%}')\n",
    "print(f'baseline recall: {baseline_recall3:.2%}')\n",
    "print()\n",
    "print(f'model precision: {model_precision3:.2%}')\n",
    "print(f'baseline precision: {baseline_precision3:.2%}')\n",
    "print('============================')\n",
    "print('MODEL 4:')\n",
    "\n",
    "print(f'   model accuracy: {model_accuracy4:.2%}')\n",
    "print(f'baseline accuracy: {baseline_accuracy4:.2%}')\n",
    "print()\n",
    "print(f'   model recall: {model_recall4:.2%}')\n",
    "print(f'baseline recall: {baseline_recall4:.2%}')\n",
    "print()\n",
    "print(f'model precision: {model_precision4:.2%}')\n",
    "print(f'baseline precision: {baseline_precision4:.2%}')\n",
    "print('============================')"
   ]
  },
  {
   "cell_type": "markdown",
   "id": "a1f3f71c",
   "metadata": {},
   "source": [
    "#### Model 1 is the best for accuracy."
   ]
  },
  {
   "cell_type": "markdown",
   "id": "1bd4c0c6",
   "metadata": {},
   "source": [
    "#### b. Suppose you are working on a team that solely deals with dog pictures. Which of these models would you recomend for Phase I? For Phase II?"
   ]
  },
  {
   "cell_type": "markdown",
   "id": "abc39e42",
   "metadata": {},
   "source": [
    "positive = dog is correctly identified\n",
    "negative = its a cat\n",
    "\n",
    "TP: Identified as dog, its a dog\n",
    "TN: Identified as a cat, its a cat\n",
    "FP: Identified as dog, its a cat\n",
    "FN: Identified as a cat, its a dog"
   ]
  },
  {
   "cell_type": "markdown",
   "id": "0e5d474e",
   "metadata": {},
   "source": [
    "#### At Gives You Paws, anyone can upload pictures of their cats or dogs. The photos are then put through a two step process. First an automated algorithm tags pictures as either a cat or a dog (Phase I). Next, the photos that have been initially identified are put through another round of review, possibly with some human oversight, before being presented to the users (Phase II)."
   ]
  },
  {
   "cell_type": "markdown",
   "id": "cce10070",
   "metadata": {},
   "source": [
    "#### Phase I:\n",
    " Using Recall. Want as many positives as possible. Use Model 4.\n",
    "\n",
    "#### Phase II: \n",
    " Using Precision. Want to sure all decisons are as correct as possible. Use Model 4 as well."
   ]
  },
  {
   "cell_type": "markdown",
   "id": "47885c24",
   "metadata": {},
   "source": [
    "#### c. Suppose you are working on a team that solely deals with cat pictures. Which of these models would you recomend for Phase I? For Phase II?"
   ]
  },
  {
   "cell_type": "markdown",
   "id": "ab3d5bfb",
   "metadata": {},
   "source": [
    "positive = cat is correctly identified\n",
    "negative = its a dog\n",
    "\n",
    "TP: Identified as cat, its a cat\n",
    "TN: Identified as a dog, its a dog\n",
    "FP: Identified as cat, its a dog\n",
    "FN: Identified as a dog, its a cat"
   ]
  },
  {
   "cell_type": "markdown",
   "id": "4b9ceeb7",
   "metadata": {},
   "source": [
    "#### Phase I:\n",
    " \n",
    "\n",
    "#### Phase II:\n",
    " "
   ]
  },
  {
   "cell_type": "code",
   "execution_count": null,
   "id": "ddf7612f",
   "metadata": {},
   "outputs": [],
   "source": []
  }
 ],
 "metadata": {
  "kernelspec": {
   "display_name": "Python 3 (ipykernel)",
   "language": "python",
   "name": "python3"
  },
  "language_info": {
   "codemirror_mode": {
    "name": "ipython",
    "version": 3
   },
   "file_extension": ".py",
   "mimetype": "text/x-python",
   "name": "python",
   "nbconvert_exporter": "python",
   "pygments_lexer": "ipython3",
   "version": "3.9.7"
  }
 },
 "nbformat": 4,
 "nbformat_minor": 5
}
